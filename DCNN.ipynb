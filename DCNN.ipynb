{
  "nbformat": 4,
  "nbformat_minor": 0,
  "metadata": {
    "colab": {
      "name": "DCNN.ipynb",
      "provenance": [],
      "collapsed_sections": []
    },
    "kernelspec": {
      "name": "python3",
      "display_name": "Python 3"
    },
    "language_info": {
      "name": "python"
    }
  },
  "cells": [
    {
      "cell_type": "markdown",
      "metadata": {
        "id": "6JpxZ1-StcX6"
      },
      "source": [
        "##We are going to predict remaining useful lifetime (RUL) of a turbofan engine based on C-MAPSS data (Sensors and operating settings) using DCNN model (Deep Convolutionnal Neural Networks) "
      ]
    },
    {
      "cell_type": "markdown",
      "metadata": {
        "id": "ojwsYp9oGrKy"
      },
      "source": [
        "## Importing necessary libraries "
      ]
    },
    {
      "cell_type": "code",
      "metadata": {
        "id": "9nU_881Yk-a7"
      },
      "source": [
        "from matplotlib import rcParams\n",
        "import seaborn as sns\n",
        "import pandas as pd\n",
        "import numpy as np\n",
        "import csv\n",
        "import matplotlib.pyplot as plt\n",
        "from sklearn.model_selection import train_test_split\n",
        "from sklearn.linear_model import LogisticRegression\n",
        "from sklearn.metrics import accuracy_score as accuracy\n",
        "from sklearn.metrics import recall_score as recall\n",
        "from sklearn.metrics import precision_score as precision\n",
        "from sklearn.metrics import f1_score\n",
        "from sklearn.pipeline import make_pipeline\n",
        "from sklearn.preprocessing import StandardScaler\n",
        "from sklearn.model_selection import GroupShuffleSplit\n",
        "from sklearn.metrics import mean_squared_error, r2_score, mean_absolute_error\n",
        "from sklearn.cluster import KMeans\n",
        "from yellowbrick.cluster import KElbowVisualizer\n",
        "import tensorflow as tf \n",
        "import os\n",
        "import keras\n",
        "from keras.models import Sequential,load_model\n",
        "from keras.layers.recurrent import GRU\n",
        "from keras.layers.core import Dense, Activation, Dropout\n",
        "from numpy import newaxis\n",
        "from tensorflow.keras import optimizers\n",
        "from tensorflow.keras import Sequential\n",
        "from tensorflow.keras.layers import Dense, Dropout, Masking, TimeDistributed\n"
      ],
      "execution_count": 1,
      "outputs": []
    },
    {
      "cell_type": "markdown",
      "metadata": {
        "id": "Bn5Suh5xmZwW"
      },
      "source": [
        "##Exploratory Data Analysis "
      ]
    },
    {
      "cell_type": "code",
      "metadata": {
        "colab": {
          "base_uri": "https://localhost:8080/"
        },
        "id": "OZ9fdj-2KHl8",
        "outputId": "fd0be9dc-afc7-433c-ecfb-3cac6638687f"
      },
      "source": [
        "from google.colab import drive\n",
        "drive.mount('/content/drive/')"
      ],
      "execution_count": 2,
      "outputs": [
        {
          "output_type": "stream",
          "name": "stdout",
          "text": [
            "Mounted at /content/drive/\n"
          ]
        }
      ]
    },
    {
      "cell_type": "code",
      "metadata": {
        "id": "-QBx9G0q2SJT"
      },
      "source": [
        "# Only raw data is provided without columns names, the lines bellow associate columns with their names \n",
        "x = ['sensor_' + str(i) for i in range(1, 22)]\n",
        "col_names = ['unit_number', 'time_cycles', 'op_setting_1', 'op_setting_2', 'op_setting_3'] + x"
      ],
      "execution_count": 3,
      "outputs": []
    },
    {
      "cell_type": "code",
      "metadata": {
        "id": "JIc_r3OplPj9"
      },
      "source": [
        "train_01 = pd.read_csv('/content/drive/My Drive/Booz Allen/CMAPSSData/train_FD001.txt', delim_whitespace=True, header = None, names = col_names)"
      ],
      "execution_count": 4,
      "outputs": []
    },
    {
      "cell_type": "code",
      "metadata": {
        "id": "3EPqHzbB7JTH"
      },
      "source": [
        "test_01 = pd.read_csv('/content/drive/My Drive/Booz Allen/CMAPSSData/test_FD001.txt', delim_whitespace=True, header = None, names = col_names)"
      ],
      "execution_count": 5,
      "outputs": []
    },
    {
      "cell_type": "code",
      "metadata": {
        "id": "nHa3iG99lix3"
      },
      "source": [
        "rul_01 = pd.read_csv('/content/drive/My Drive/Booz Allen/CMAPSSData/RUL_FD001.txt', delim_whitespace=True, header = None)"
      ],
      "execution_count": 6,
      "outputs": []
    },
    {
      "cell_type": "code",
      "metadata": {
        "colab": {
          "base_uri": "https://localhost:8080/",
          "height": 222
        },
        "id": "aSuNop93_GYd",
        "outputId": "b99eea91-8b1e-4420-8a3f-e512bf9acab1"
      },
      "source": [
        "train_01.head()"
      ],
      "execution_count": 7,
      "outputs": [
        {
          "output_type": "execute_result",
          "data": {
            "text/html": [
              "<div>\n",
              "<style scoped>\n",
              "    .dataframe tbody tr th:only-of-type {\n",
              "        vertical-align: middle;\n",
              "    }\n",
              "\n",
              "    .dataframe tbody tr th {\n",
              "        vertical-align: top;\n",
              "    }\n",
              "\n",
              "    .dataframe thead th {\n",
              "        text-align: right;\n",
              "    }\n",
              "</style>\n",
              "<table border=\"1\" class=\"dataframe\">\n",
              "  <thead>\n",
              "    <tr style=\"text-align: right;\">\n",
              "      <th></th>\n",
              "      <th>unit_number</th>\n",
              "      <th>time_cycles</th>\n",
              "      <th>op_setting_1</th>\n",
              "      <th>op_setting_2</th>\n",
              "      <th>op_setting_3</th>\n",
              "      <th>sensor_1</th>\n",
              "      <th>sensor_2</th>\n",
              "      <th>sensor_3</th>\n",
              "      <th>sensor_4</th>\n",
              "      <th>sensor_5</th>\n",
              "      <th>sensor_6</th>\n",
              "      <th>sensor_7</th>\n",
              "      <th>sensor_8</th>\n",
              "      <th>sensor_9</th>\n",
              "      <th>sensor_10</th>\n",
              "      <th>sensor_11</th>\n",
              "      <th>sensor_12</th>\n",
              "      <th>sensor_13</th>\n",
              "      <th>sensor_14</th>\n",
              "      <th>sensor_15</th>\n",
              "      <th>sensor_16</th>\n",
              "      <th>sensor_17</th>\n",
              "      <th>sensor_18</th>\n",
              "      <th>sensor_19</th>\n",
              "      <th>sensor_20</th>\n",
              "      <th>sensor_21</th>\n",
              "    </tr>\n",
              "  </thead>\n",
              "  <tbody>\n",
              "    <tr>\n",
              "      <th>0</th>\n",
              "      <td>1</td>\n",
              "      <td>1</td>\n",
              "      <td>-0.0007</td>\n",
              "      <td>-0.0004</td>\n",
              "      <td>100.0</td>\n",
              "      <td>518.67</td>\n",
              "      <td>641.82</td>\n",
              "      <td>1589.70</td>\n",
              "      <td>1400.60</td>\n",
              "      <td>14.62</td>\n",
              "      <td>21.61</td>\n",
              "      <td>554.36</td>\n",
              "      <td>2388.06</td>\n",
              "      <td>9046.19</td>\n",
              "      <td>1.3</td>\n",
              "      <td>47.47</td>\n",
              "      <td>521.66</td>\n",
              "      <td>2388.02</td>\n",
              "      <td>8138.62</td>\n",
              "      <td>8.4195</td>\n",
              "      <td>0.03</td>\n",
              "      <td>392</td>\n",
              "      <td>2388</td>\n",
              "      <td>100.0</td>\n",
              "      <td>39.06</td>\n",
              "      <td>23.4190</td>\n",
              "    </tr>\n",
              "    <tr>\n",
              "      <th>1</th>\n",
              "      <td>1</td>\n",
              "      <td>2</td>\n",
              "      <td>0.0019</td>\n",
              "      <td>-0.0003</td>\n",
              "      <td>100.0</td>\n",
              "      <td>518.67</td>\n",
              "      <td>642.15</td>\n",
              "      <td>1591.82</td>\n",
              "      <td>1403.14</td>\n",
              "      <td>14.62</td>\n",
              "      <td>21.61</td>\n",
              "      <td>553.75</td>\n",
              "      <td>2388.04</td>\n",
              "      <td>9044.07</td>\n",
              "      <td>1.3</td>\n",
              "      <td>47.49</td>\n",
              "      <td>522.28</td>\n",
              "      <td>2388.07</td>\n",
              "      <td>8131.49</td>\n",
              "      <td>8.4318</td>\n",
              "      <td>0.03</td>\n",
              "      <td>392</td>\n",
              "      <td>2388</td>\n",
              "      <td>100.0</td>\n",
              "      <td>39.00</td>\n",
              "      <td>23.4236</td>\n",
              "    </tr>\n",
              "    <tr>\n",
              "      <th>2</th>\n",
              "      <td>1</td>\n",
              "      <td>3</td>\n",
              "      <td>-0.0043</td>\n",
              "      <td>0.0003</td>\n",
              "      <td>100.0</td>\n",
              "      <td>518.67</td>\n",
              "      <td>642.35</td>\n",
              "      <td>1587.99</td>\n",
              "      <td>1404.20</td>\n",
              "      <td>14.62</td>\n",
              "      <td>21.61</td>\n",
              "      <td>554.26</td>\n",
              "      <td>2388.08</td>\n",
              "      <td>9052.94</td>\n",
              "      <td>1.3</td>\n",
              "      <td>47.27</td>\n",
              "      <td>522.42</td>\n",
              "      <td>2388.03</td>\n",
              "      <td>8133.23</td>\n",
              "      <td>8.4178</td>\n",
              "      <td>0.03</td>\n",
              "      <td>390</td>\n",
              "      <td>2388</td>\n",
              "      <td>100.0</td>\n",
              "      <td>38.95</td>\n",
              "      <td>23.3442</td>\n",
              "    </tr>\n",
              "    <tr>\n",
              "      <th>3</th>\n",
              "      <td>1</td>\n",
              "      <td>4</td>\n",
              "      <td>0.0007</td>\n",
              "      <td>0.0000</td>\n",
              "      <td>100.0</td>\n",
              "      <td>518.67</td>\n",
              "      <td>642.35</td>\n",
              "      <td>1582.79</td>\n",
              "      <td>1401.87</td>\n",
              "      <td>14.62</td>\n",
              "      <td>21.61</td>\n",
              "      <td>554.45</td>\n",
              "      <td>2388.11</td>\n",
              "      <td>9049.48</td>\n",
              "      <td>1.3</td>\n",
              "      <td>47.13</td>\n",
              "      <td>522.86</td>\n",
              "      <td>2388.08</td>\n",
              "      <td>8133.83</td>\n",
              "      <td>8.3682</td>\n",
              "      <td>0.03</td>\n",
              "      <td>392</td>\n",
              "      <td>2388</td>\n",
              "      <td>100.0</td>\n",
              "      <td>38.88</td>\n",
              "      <td>23.3739</td>\n",
              "    </tr>\n",
              "    <tr>\n",
              "      <th>4</th>\n",
              "      <td>1</td>\n",
              "      <td>5</td>\n",
              "      <td>-0.0019</td>\n",
              "      <td>-0.0002</td>\n",
              "      <td>100.0</td>\n",
              "      <td>518.67</td>\n",
              "      <td>642.37</td>\n",
              "      <td>1582.85</td>\n",
              "      <td>1406.22</td>\n",
              "      <td>14.62</td>\n",
              "      <td>21.61</td>\n",
              "      <td>554.00</td>\n",
              "      <td>2388.06</td>\n",
              "      <td>9055.15</td>\n",
              "      <td>1.3</td>\n",
              "      <td>47.28</td>\n",
              "      <td>522.19</td>\n",
              "      <td>2388.04</td>\n",
              "      <td>8133.80</td>\n",
              "      <td>8.4294</td>\n",
              "      <td>0.03</td>\n",
              "      <td>393</td>\n",
              "      <td>2388</td>\n",
              "      <td>100.0</td>\n",
              "      <td>38.90</td>\n",
              "      <td>23.4044</td>\n",
              "    </tr>\n",
              "  </tbody>\n",
              "</table>\n",
              "</div>"
            ],
            "text/plain": [
              "   unit_number  time_cycles  op_setting_1  ...  sensor_19  sensor_20  sensor_21\n",
              "0            1            1       -0.0007  ...      100.0      39.06    23.4190\n",
              "1            1            2        0.0019  ...      100.0      39.00    23.4236\n",
              "2            1            3       -0.0043  ...      100.0      38.95    23.3442\n",
              "3            1            4        0.0007  ...      100.0      38.88    23.3739\n",
              "4            1            5       -0.0019  ...      100.0      38.90    23.4044\n",
              "\n",
              "[5 rows x 26 columns]"
            ]
          },
          "metadata": {},
          "execution_count": 7
        }
      ]
    },
    {
      "cell_type": "code",
      "metadata": {
        "colab": {
          "base_uri": "https://localhost:8080/",
          "height": 222
        },
        "id": "vck0MCpwTeTf",
        "outputId": "46c69971-6256-44d8-bc3d-561c9e8d0c40"
      },
      "source": [
        "train_01.head()"
      ],
      "execution_count": 8,
      "outputs": [
        {
          "output_type": "execute_result",
          "data": {
            "text/html": [
              "<div>\n",
              "<style scoped>\n",
              "    .dataframe tbody tr th:only-of-type {\n",
              "        vertical-align: middle;\n",
              "    }\n",
              "\n",
              "    .dataframe tbody tr th {\n",
              "        vertical-align: top;\n",
              "    }\n",
              "\n",
              "    .dataframe thead th {\n",
              "        text-align: right;\n",
              "    }\n",
              "</style>\n",
              "<table border=\"1\" class=\"dataframe\">\n",
              "  <thead>\n",
              "    <tr style=\"text-align: right;\">\n",
              "      <th></th>\n",
              "      <th>unit_number</th>\n",
              "      <th>time_cycles</th>\n",
              "      <th>op_setting_1</th>\n",
              "      <th>op_setting_2</th>\n",
              "      <th>op_setting_3</th>\n",
              "      <th>sensor_1</th>\n",
              "      <th>sensor_2</th>\n",
              "      <th>sensor_3</th>\n",
              "      <th>sensor_4</th>\n",
              "      <th>sensor_5</th>\n",
              "      <th>sensor_6</th>\n",
              "      <th>sensor_7</th>\n",
              "      <th>sensor_8</th>\n",
              "      <th>sensor_9</th>\n",
              "      <th>sensor_10</th>\n",
              "      <th>sensor_11</th>\n",
              "      <th>sensor_12</th>\n",
              "      <th>sensor_13</th>\n",
              "      <th>sensor_14</th>\n",
              "      <th>sensor_15</th>\n",
              "      <th>sensor_16</th>\n",
              "      <th>sensor_17</th>\n",
              "      <th>sensor_18</th>\n",
              "      <th>sensor_19</th>\n",
              "      <th>sensor_20</th>\n",
              "      <th>sensor_21</th>\n",
              "    </tr>\n",
              "  </thead>\n",
              "  <tbody>\n",
              "    <tr>\n",
              "      <th>0</th>\n",
              "      <td>1</td>\n",
              "      <td>1</td>\n",
              "      <td>-0.0007</td>\n",
              "      <td>-0.0004</td>\n",
              "      <td>100.0</td>\n",
              "      <td>518.67</td>\n",
              "      <td>641.82</td>\n",
              "      <td>1589.70</td>\n",
              "      <td>1400.60</td>\n",
              "      <td>14.62</td>\n",
              "      <td>21.61</td>\n",
              "      <td>554.36</td>\n",
              "      <td>2388.06</td>\n",
              "      <td>9046.19</td>\n",
              "      <td>1.3</td>\n",
              "      <td>47.47</td>\n",
              "      <td>521.66</td>\n",
              "      <td>2388.02</td>\n",
              "      <td>8138.62</td>\n",
              "      <td>8.4195</td>\n",
              "      <td>0.03</td>\n",
              "      <td>392</td>\n",
              "      <td>2388</td>\n",
              "      <td>100.0</td>\n",
              "      <td>39.06</td>\n",
              "      <td>23.4190</td>\n",
              "    </tr>\n",
              "    <tr>\n",
              "      <th>1</th>\n",
              "      <td>1</td>\n",
              "      <td>2</td>\n",
              "      <td>0.0019</td>\n",
              "      <td>-0.0003</td>\n",
              "      <td>100.0</td>\n",
              "      <td>518.67</td>\n",
              "      <td>642.15</td>\n",
              "      <td>1591.82</td>\n",
              "      <td>1403.14</td>\n",
              "      <td>14.62</td>\n",
              "      <td>21.61</td>\n",
              "      <td>553.75</td>\n",
              "      <td>2388.04</td>\n",
              "      <td>9044.07</td>\n",
              "      <td>1.3</td>\n",
              "      <td>47.49</td>\n",
              "      <td>522.28</td>\n",
              "      <td>2388.07</td>\n",
              "      <td>8131.49</td>\n",
              "      <td>8.4318</td>\n",
              "      <td>0.03</td>\n",
              "      <td>392</td>\n",
              "      <td>2388</td>\n",
              "      <td>100.0</td>\n",
              "      <td>39.00</td>\n",
              "      <td>23.4236</td>\n",
              "    </tr>\n",
              "    <tr>\n",
              "      <th>2</th>\n",
              "      <td>1</td>\n",
              "      <td>3</td>\n",
              "      <td>-0.0043</td>\n",
              "      <td>0.0003</td>\n",
              "      <td>100.0</td>\n",
              "      <td>518.67</td>\n",
              "      <td>642.35</td>\n",
              "      <td>1587.99</td>\n",
              "      <td>1404.20</td>\n",
              "      <td>14.62</td>\n",
              "      <td>21.61</td>\n",
              "      <td>554.26</td>\n",
              "      <td>2388.08</td>\n",
              "      <td>9052.94</td>\n",
              "      <td>1.3</td>\n",
              "      <td>47.27</td>\n",
              "      <td>522.42</td>\n",
              "      <td>2388.03</td>\n",
              "      <td>8133.23</td>\n",
              "      <td>8.4178</td>\n",
              "      <td>0.03</td>\n",
              "      <td>390</td>\n",
              "      <td>2388</td>\n",
              "      <td>100.0</td>\n",
              "      <td>38.95</td>\n",
              "      <td>23.3442</td>\n",
              "    </tr>\n",
              "    <tr>\n",
              "      <th>3</th>\n",
              "      <td>1</td>\n",
              "      <td>4</td>\n",
              "      <td>0.0007</td>\n",
              "      <td>0.0000</td>\n",
              "      <td>100.0</td>\n",
              "      <td>518.67</td>\n",
              "      <td>642.35</td>\n",
              "      <td>1582.79</td>\n",
              "      <td>1401.87</td>\n",
              "      <td>14.62</td>\n",
              "      <td>21.61</td>\n",
              "      <td>554.45</td>\n",
              "      <td>2388.11</td>\n",
              "      <td>9049.48</td>\n",
              "      <td>1.3</td>\n",
              "      <td>47.13</td>\n",
              "      <td>522.86</td>\n",
              "      <td>2388.08</td>\n",
              "      <td>8133.83</td>\n",
              "      <td>8.3682</td>\n",
              "      <td>0.03</td>\n",
              "      <td>392</td>\n",
              "      <td>2388</td>\n",
              "      <td>100.0</td>\n",
              "      <td>38.88</td>\n",
              "      <td>23.3739</td>\n",
              "    </tr>\n",
              "    <tr>\n",
              "      <th>4</th>\n",
              "      <td>1</td>\n",
              "      <td>5</td>\n",
              "      <td>-0.0019</td>\n",
              "      <td>-0.0002</td>\n",
              "      <td>100.0</td>\n",
              "      <td>518.67</td>\n",
              "      <td>642.37</td>\n",
              "      <td>1582.85</td>\n",
              "      <td>1406.22</td>\n",
              "      <td>14.62</td>\n",
              "      <td>21.61</td>\n",
              "      <td>554.00</td>\n",
              "      <td>2388.06</td>\n",
              "      <td>9055.15</td>\n",
              "      <td>1.3</td>\n",
              "      <td>47.28</td>\n",
              "      <td>522.19</td>\n",
              "      <td>2388.04</td>\n",
              "      <td>8133.80</td>\n",
              "      <td>8.4294</td>\n",
              "      <td>0.03</td>\n",
              "      <td>393</td>\n",
              "      <td>2388</td>\n",
              "      <td>100.0</td>\n",
              "      <td>38.90</td>\n",
              "      <td>23.4044</td>\n",
              "    </tr>\n",
              "  </tbody>\n",
              "</table>\n",
              "</div>"
            ],
            "text/plain": [
              "   unit_number  time_cycles  op_setting_1  ...  sensor_19  sensor_20  sensor_21\n",
              "0            1            1       -0.0007  ...      100.0      39.06    23.4190\n",
              "1            1            2        0.0019  ...      100.0      39.00    23.4236\n",
              "2            1            3       -0.0043  ...      100.0      38.95    23.3442\n",
              "3            1            4        0.0007  ...      100.0      38.88    23.3739\n",
              "4            1            5       -0.0019  ...      100.0      38.90    23.4044\n",
              "\n",
              "[5 rows x 26 columns]"
            ]
          },
          "metadata": {},
          "execution_count": 8
        }
      ]
    },
    {
      "cell_type": "markdown",
      "metadata": {
        "id": "s3P-UAxlTgsl"
      },
      "source": [
        "##Data Preprocessing ==> the same preprocessing as in GRU model attached in this repo as well (please refer to that for more details)"
      ]
    },
    {
      "cell_type": "code",
      "metadata": {
        "id": "KbKmXr31naGp"
      },
      "source": [
        "def add_operating_condition(df):\n",
        "    df_op_cond = df.copy()\n",
        "    \n",
        "    df_op_cond['op_setting_1'] = df_op_cond['op_setting_1'].round()\n",
        "    df_op_cond['op_setting_2'] = df_op_cond['op_setting_2'].round(decimals=2)\n",
        "    \n",
        "    # converting settings to string and concatanating makes the operating condition into a categorical variable\n",
        "    df_op_cond['op_cond'] = df_op_cond['op_setting_1'].astype(str) + '_' + \\\n",
        "                        df_op_cond['op_setting_2'].astype(str) + '_' + \\\n",
        "                        df_op_cond['op_setting_3'].astype(str)\n",
        "    \n",
        "    return df_op_cond\n",
        "\n",
        "def condition_scaler(df_train, df_test, sensor_names):\n",
        "    # apply operating condition specific scaling\n",
        "    scaler = StandardScaler()\n",
        "    for condition in df_train['op_cond'].unique():\n",
        "        scaler.fit(df_train.loc[df_train['op_cond']==condition, sensor_names])\n",
        "        df_train.loc[df_train['op_cond']==condition, sensor_names] = scaler.transform(df_train.loc[df_train['op_cond']==condition, sensor_names])\n",
        "        df_test.loc[df_test['op_cond']==condition, sensor_names] = scaler.transform(df_test.loc[df_test['op_cond']==condition, sensor_names])\n",
        "    return df_train, df_test"
      ],
      "execution_count": 9,
      "outputs": []
    },
    {
      "cell_type": "code",
      "metadata": {
        "id": "SJXMSSd2xb2J"
      },
      "source": [
        "def exponential_smoothing(df, sensors, n_samples, alpha=0.4):\n",
        "    df = df.copy()\n",
        "    # first, take the exponential weighted mean\n",
        "    df[sensors] = df.groupby('unit_number')[sensors].apply(lambda x: x.ewm(alpha=alpha).mean())\n",
        "    # second, drop first n_samples of each unit_nr to reduce filter delay\n",
        "    def create_mask(data, samples):\n",
        "        result = np.ones_like(data)\n",
        "        result[0:samples] = 0\n",
        "        return result\n",
        "    \n",
        "    mask = df.groupby('unit_number')['unit_number'].transform(create_mask, samples=n_samples).astype(bool).reset_index(drop=True)\n",
        "    df = df[mask.iloc[:, 0]]\n",
        "    \n",
        "    return df"
      ],
      "execution_count": 10,
      "outputs": []
    },
    {
      "cell_type": "code",
      "metadata": {
        "id": "qbC4ixOCxugj"
      },
      "source": [
        "gss = GroupShuffleSplit(n_splits=1, train_size=0.80, random_state=42)  # eventhough we set np and tf seeds, gss requires its own seed\n",
        "\n",
        "def train_val_group_split(X, y, gss, groups, print_groups=True):\n",
        "    \n",
        "    for idx_train, idx_val in gss.split(X, y, groups=groups):\n",
        "        if print_groups:\n",
        "            print('train_split_engines', train.iloc[idx_train]['unit_nr'].unique())\n",
        "            print('validate_split_engines', train.iloc[idx_val]['unit_nr'].unique(), '\\n')\n",
        "\n",
        "        X_train_split = X.iloc[idx_train].copy()\n",
        "        y_train_split = y.iloc[idx_train].copy()\n",
        "        X_val_split = X.iloc[idx_val].copy()\n",
        "        y_val_split = y.iloc[idx_val].copy()\n",
        "    return X_train_split, y_train_split, X_val_split, y_val_split"
      ],
      "execution_count": 11,
      "outputs": []
    },
    {
      "cell_type": "code",
      "metadata": {
        "id": "KmG1mrhL00rq"
      },
      "source": [
        "#This function creates3D sequences of data , So far our data is 2D our model GRU needs 3D data \n",
        "def gen_train_data(df, sequence_length, columns):\n",
        "    data = df[columns].values\n",
        "    num_elements = data.shape[0]\n",
        "\n",
        "    # -1 and +1 because of Python indexing\n",
        "    for start, stop in zip(range(0, num_elements-(sequence_length-1)), range(sequence_length, num_elements+1)):\n",
        "        yield data[start:stop, :]\n"
      ],
      "execution_count": 12,
      "outputs": []
    },
    {
      "cell_type": "code",
      "metadata": {
        "id": "_L3EG0tD2fUe"
      },
      "source": [
        "def gen_data_wrapper(df, sequence_length, columns, unit_nrs=np.array([])):\n",
        "    if unit_nrs.size <= 0:\n",
        "        unit_nrs = df['unit_number'].unique()\n",
        "        \n",
        "    data_gen = (list(gen_train_data(df[df['unit_number']==unit_nr], sequence_length, columns))\n",
        "               for unit_nr in unit_nrs)\n",
        "    data_array = np.concatenate(list(data_gen)).astype(np.float32)\n",
        "    return data_array"
      ],
      "execution_count": 13,
      "outputs": []
    },
    {
      "cell_type": "code",
      "metadata": {
        "id": "jn7G5jbO25cj"
      },
      "source": [
        "def gen_labels(df, sequence_length, label):\n",
        "    data_matrix = df[label].values\n",
        "    num_elements = data_matrix.shape[0]\n",
        "\n",
        "    # -1 because I want to predict the rul of that last row in the sequence, not the next row\n",
        "    return data_matrix[sequence_length-1:num_elements, :]  \n",
        "\n",
        "def gen_label_wrapper(df, sequence_length, label, unit_nrs=np.array([])):\n",
        "    if unit_nrs.size <= 0:\n",
        "        unit_nrs = df['unit_number'].unique()\n",
        "        \n",
        "    label_gen = [gen_labels(df[df['unit_number']==unit_nr], sequence_length, label) \n",
        "                for unit_nr in unit_nrs]\n",
        "    label_array = np.concatenate(label_gen).astype(np.float32)\n",
        "    return label_array"
      ],
      "execution_count": 14,
      "outputs": []
    },
    {
      "cell_type": "code",
      "metadata": {
        "id": "twzUBF0K3wE4"
      },
      "source": [
        "def gen_test_data(df, sequence_length, columns, mask_value):\n",
        "    if df.shape[0] < sequence_length:\n",
        "        data_matrix = np.full(shape=(sequence_length, len(columns)), fill_value=mask_value) # pad\n",
        "        idx = data_matrix.shape[0] - df.shape[0]\n",
        "        data_matrix[idx:,:] = df[columns].values  # fill with available data\n",
        "    else:\n",
        "        data_matrix = df[columns].values\n",
        "        \n",
        "    # specifically yield the last possible sequence\n",
        "    stop = num_elements = data_matrix.shape[0]\n",
        "    start = stop - sequence_length\n",
        "    for i in list(range(1)):\n",
        "        yield data_matrix[start:stop, :]  "
      ],
      "execution_count": 15,
      "outputs": []
    },
    {
      "cell_type": "code",
      "metadata": {
        "colab": {
          "base_uri": "https://localhost:8080/",
          "height": 222
        },
        "id": "psqZACeS3G89",
        "outputId": "5b148a18-69f4-4444-e3ea-4cb5c2d8e00c"
      },
      "source": [
        "def add_remaining_useful_life(df):\n",
        "    # Get the total number of cycles for each unit\n",
        "    grouped_by_unit = df.groupby(by=\"unit_number\")\n",
        "    max_cycle = grouped_by_unit[\"time_cycles\"].max()\n",
        "    \n",
        "    # Merge the max cycle back into the original frame\n",
        "    result_frame = df.merge(max_cycle.to_frame(name='max_cycle'), left_on='unit_number', right_index=True)\n",
        "    \n",
        "    # Calculate remaining useful life for each row\n",
        "    remaining_useful_life = result_frame[\"max_cycle\"] - result_frame[\"time_cycles\"]\n",
        "    result_frame[\"RUL\"] = remaining_useful_life\n",
        "    \n",
        "    # drop max_cycle as it's no longer needed\n",
        "    result_frame = result_frame.drop(\"max_cycle\", axis=1)\n",
        "    return result_frame\n",
        "\n",
        "train_01 = add_remaining_useful_life(train_01)\n",
        "train_01.head()"
      ],
      "execution_count": 16,
      "outputs": [
        {
          "output_type": "execute_result",
          "data": {
            "text/html": [
              "<div>\n",
              "<style scoped>\n",
              "    .dataframe tbody tr th:only-of-type {\n",
              "        vertical-align: middle;\n",
              "    }\n",
              "\n",
              "    .dataframe tbody tr th {\n",
              "        vertical-align: top;\n",
              "    }\n",
              "\n",
              "    .dataframe thead th {\n",
              "        text-align: right;\n",
              "    }\n",
              "</style>\n",
              "<table border=\"1\" class=\"dataframe\">\n",
              "  <thead>\n",
              "    <tr style=\"text-align: right;\">\n",
              "      <th></th>\n",
              "      <th>unit_number</th>\n",
              "      <th>time_cycles</th>\n",
              "      <th>op_setting_1</th>\n",
              "      <th>op_setting_2</th>\n",
              "      <th>op_setting_3</th>\n",
              "      <th>sensor_1</th>\n",
              "      <th>sensor_2</th>\n",
              "      <th>sensor_3</th>\n",
              "      <th>sensor_4</th>\n",
              "      <th>sensor_5</th>\n",
              "      <th>sensor_6</th>\n",
              "      <th>sensor_7</th>\n",
              "      <th>sensor_8</th>\n",
              "      <th>sensor_9</th>\n",
              "      <th>sensor_10</th>\n",
              "      <th>sensor_11</th>\n",
              "      <th>sensor_12</th>\n",
              "      <th>sensor_13</th>\n",
              "      <th>sensor_14</th>\n",
              "      <th>sensor_15</th>\n",
              "      <th>sensor_16</th>\n",
              "      <th>sensor_17</th>\n",
              "      <th>sensor_18</th>\n",
              "      <th>sensor_19</th>\n",
              "      <th>sensor_20</th>\n",
              "      <th>sensor_21</th>\n",
              "      <th>RUL</th>\n",
              "    </tr>\n",
              "  </thead>\n",
              "  <tbody>\n",
              "    <tr>\n",
              "      <th>0</th>\n",
              "      <td>1</td>\n",
              "      <td>1</td>\n",
              "      <td>-0.0007</td>\n",
              "      <td>-0.0004</td>\n",
              "      <td>100.0</td>\n",
              "      <td>518.67</td>\n",
              "      <td>641.82</td>\n",
              "      <td>1589.70</td>\n",
              "      <td>1400.60</td>\n",
              "      <td>14.62</td>\n",
              "      <td>21.61</td>\n",
              "      <td>554.36</td>\n",
              "      <td>2388.06</td>\n",
              "      <td>9046.19</td>\n",
              "      <td>1.3</td>\n",
              "      <td>47.47</td>\n",
              "      <td>521.66</td>\n",
              "      <td>2388.02</td>\n",
              "      <td>8138.62</td>\n",
              "      <td>8.4195</td>\n",
              "      <td>0.03</td>\n",
              "      <td>392</td>\n",
              "      <td>2388</td>\n",
              "      <td>100.0</td>\n",
              "      <td>39.06</td>\n",
              "      <td>23.4190</td>\n",
              "      <td>191</td>\n",
              "    </tr>\n",
              "    <tr>\n",
              "      <th>1</th>\n",
              "      <td>1</td>\n",
              "      <td>2</td>\n",
              "      <td>0.0019</td>\n",
              "      <td>-0.0003</td>\n",
              "      <td>100.0</td>\n",
              "      <td>518.67</td>\n",
              "      <td>642.15</td>\n",
              "      <td>1591.82</td>\n",
              "      <td>1403.14</td>\n",
              "      <td>14.62</td>\n",
              "      <td>21.61</td>\n",
              "      <td>553.75</td>\n",
              "      <td>2388.04</td>\n",
              "      <td>9044.07</td>\n",
              "      <td>1.3</td>\n",
              "      <td>47.49</td>\n",
              "      <td>522.28</td>\n",
              "      <td>2388.07</td>\n",
              "      <td>8131.49</td>\n",
              "      <td>8.4318</td>\n",
              "      <td>0.03</td>\n",
              "      <td>392</td>\n",
              "      <td>2388</td>\n",
              "      <td>100.0</td>\n",
              "      <td>39.00</td>\n",
              "      <td>23.4236</td>\n",
              "      <td>190</td>\n",
              "    </tr>\n",
              "    <tr>\n",
              "      <th>2</th>\n",
              "      <td>1</td>\n",
              "      <td>3</td>\n",
              "      <td>-0.0043</td>\n",
              "      <td>0.0003</td>\n",
              "      <td>100.0</td>\n",
              "      <td>518.67</td>\n",
              "      <td>642.35</td>\n",
              "      <td>1587.99</td>\n",
              "      <td>1404.20</td>\n",
              "      <td>14.62</td>\n",
              "      <td>21.61</td>\n",
              "      <td>554.26</td>\n",
              "      <td>2388.08</td>\n",
              "      <td>9052.94</td>\n",
              "      <td>1.3</td>\n",
              "      <td>47.27</td>\n",
              "      <td>522.42</td>\n",
              "      <td>2388.03</td>\n",
              "      <td>8133.23</td>\n",
              "      <td>8.4178</td>\n",
              "      <td>0.03</td>\n",
              "      <td>390</td>\n",
              "      <td>2388</td>\n",
              "      <td>100.0</td>\n",
              "      <td>38.95</td>\n",
              "      <td>23.3442</td>\n",
              "      <td>189</td>\n",
              "    </tr>\n",
              "    <tr>\n",
              "      <th>3</th>\n",
              "      <td>1</td>\n",
              "      <td>4</td>\n",
              "      <td>0.0007</td>\n",
              "      <td>0.0000</td>\n",
              "      <td>100.0</td>\n",
              "      <td>518.67</td>\n",
              "      <td>642.35</td>\n",
              "      <td>1582.79</td>\n",
              "      <td>1401.87</td>\n",
              "      <td>14.62</td>\n",
              "      <td>21.61</td>\n",
              "      <td>554.45</td>\n",
              "      <td>2388.11</td>\n",
              "      <td>9049.48</td>\n",
              "      <td>1.3</td>\n",
              "      <td>47.13</td>\n",
              "      <td>522.86</td>\n",
              "      <td>2388.08</td>\n",
              "      <td>8133.83</td>\n",
              "      <td>8.3682</td>\n",
              "      <td>0.03</td>\n",
              "      <td>392</td>\n",
              "      <td>2388</td>\n",
              "      <td>100.0</td>\n",
              "      <td>38.88</td>\n",
              "      <td>23.3739</td>\n",
              "      <td>188</td>\n",
              "    </tr>\n",
              "    <tr>\n",
              "      <th>4</th>\n",
              "      <td>1</td>\n",
              "      <td>5</td>\n",
              "      <td>-0.0019</td>\n",
              "      <td>-0.0002</td>\n",
              "      <td>100.0</td>\n",
              "      <td>518.67</td>\n",
              "      <td>642.37</td>\n",
              "      <td>1582.85</td>\n",
              "      <td>1406.22</td>\n",
              "      <td>14.62</td>\n",
              "      <td>21.61</td>\n",
              "      <td>554.00</td>\n",
              "      <td>2388.06</td>\n",
              "      <td>9055.15</td>\n",
              "      <td>1.3</td>\n",
              "      <td>47.28</td>\n",
              "      <td>522.19</td>\n",
              "      <td>2388.04</td>\n",
              "      <td>8133.80</td>\n",
              "      <td>8.4294</td>\n",
              "      <td>0.03</td>\n",
              "      <td>393</td>\n",
              "      <td>2388</td>\n",
              "      <td>100.0</td>\n",
              "      <td>38.90</td>\n",
              "      <td>23.4044</td>\n",
              "      <td>187</td>\n",
              "    </tr>\n",
              "  </tbody>\n",
              "</table>\n",
              "</div>"
            ],
            "text/plain": [
              "   unit_number  time_cycles  op_setting_1  ...  sensor_20  sensor_21  RUL\n",
              "0            1            1       -0.0007  ...      39.06    23.4190  191\n",
              "1            1            2        0.0019  ...      39.00    23.4236  190\n",
              "2            1            3       -0.0043  ...      38.95    23.3442  189\n",
              "3            1            4        0.0007  ...      38.88    23.3739  188\n",
              "4            1            5       -0.0019  ...      38.90    23.4044  187\n",
              "\n",
              "[5 rows x 27 columns]"
            ]
          },
          "metadata": {},
          "execution_count": 16
        }
      ]
    },
    {
      "cell_type": "code",
      "metadata": {
        "id": "KEgTe125wvWD"
      },
      "source": [
        "sensors = ['sensor_' + str(i) for i in range(1, 22)]"
      ],
      "execution_count": 17,
      "outputs": []
    },
    {
      "cell_type": "code",
      "metadata": {
        "id": "kJn-b_jK36Iz"
      },
      "source": [
        "sequence_length = 20\n",
        "train_01['RUL'].clip(upper=125, inplace=True)\n",
        "\n",
        "X_train_interim = add_operating_condition(train_01)\n",
        "X_test_interim = add_operating_condition(test_01)\n",
        "\n",
        "X_train_interim, X_test_interim = condition_scaler(X_train_interim, X_test_interim, sensors)\n",
        "\n",
        "# X_train_interim = exponential_smoothing(X_train_interim, sensors, 0, 0.4)\n",
        "# X_test_interim = exponential_smoothing(X_test_interim, sensors, 0, 0.4)\n",
        "\n",
        "# train-val split\n",
        "gss = GroupShuffleSplit(n_splits=1, train_size=0.80, random_state=42)\n",
        "for train_unit, val_unit in gss.split(X_train_interim['unit_number'].unique(), groups=X_train_interim['unit_number'].unique()):\n",
        "    train_unit = X_train_interim['unit_number'].unique()[train_unit]  # gss returns indexes and index starts at 1\n",
        "    val_unit = X_train_interim['unit_number'].unique()[val_unit]\n",
        "\n",
        "    train_split_array = gen_data_wrapper(X_train_interim, sequence_length, sensors, train_unit)\n",
        "    train_split_label = gen_label_wrapper(X_train_interim, sequence_length, ['RUL'], train_unit)\n",
        "    \n",
        "    val_split_array = gen_data_wrapper(X_train_interim, sequence_length, sensors, val_unit)\n",
        "    val_split_label = gen_label_wrapper(X_train_interim, sequence_length, ['RUL'], val_unit)\n",
        "\n",
        "# create sequences train, test \n",
        "train_array = gen_data_wrapper(X_train_interim, sequence_length, x)\n",
        "label_array = gen_label_wrapper(X_train_interim, sequence_length, ['RUL'])\n",
        "\n",
        "test_gen = (list(gen_test_data(X_test_interim[X_test_interim['unit_number']==unit_nr], sequence_length, x, -99.))\n",
        "           for unit_nr in X_test_interim['unit_number'].unique())\n",
        "test_array = np.concatenate(list(test_gen)).astype(np.float32)"
      ],
      "execution_count": 18,
      "outputs": []
    },
    {
      "cell_type": "markdown",
      "metadata": {
        "id": "QJuAGjO_OV1w"
      },
      "source": [
        "#Modelling DCNN"
      ]
    },
    {
      "cell_type": "code",
      "metadata": {
        "id": "ZMrfQo2QxkU8"
      },
      "source": [
        "nb_features = train_split_array.shape[2]\n",
        "nb_out = label_array.shape[1]"
      ],
      "execution_count": 19,
      "outputs": []
    },
    {
      "cell_type": "markdown",
      "metadata": {
        "id": "ESqhUibikFyt"
      },
      "source": [
        " ### DCNN"
      ]
    },
    {
      "cell_type": "code",
      "metadata": {
        "id": "PyvJ4_U1q0xm"
      },
      "source": [
        "# Clear artifacts and set random seed to ensure repeatability\n",
        "keras.backend.clear_session()\n",
        "np.random.seed(42)\n",
        "#Create model\n",
        "def DCNN():\n",
        "    model = keras.models.Sequential()\n",
        "    model.add(keras.layers.Conv1D(32, 8, padding='same', activation='relu',\n",
        "                                  input_shape=(sequence_length,nb_features)))\n",
        "    model.add(keras.layers.Conv1D(64, 8, padding='same', activation='relu'))\n",
        "    model.add(keras.layers.Conv1D(64, 8, padding='same', activation='relu'))\n",
        "    model.add(keras.layers.Conv1D(32, 8, padding='same', activation='relu'))\n",
        "    model.add(keras.layers.GlobalMaxPooling1D())\n",
        "    model.add(keras.layers.Dropout(0.5))\n",
        "    model.add(keras.layers.Flatten())\n",
        "    model.add(keras.layers.Dense(100, activation='linear'))\n",
        "    model.add(keras.layers.Dropout(0.2))\n",
        "    model.add(keras.layers.Dense(units=nb_out))\n",
        "    model.compile(optimizer=tf.optimizers.Adam(learning_rate=0.0003),\n",
        "                  loss='mse',\n",
        "                  metrics=[tf.keras.metrics.RootMeanSquaredError()])\n",
        "    return model\n",
        "\n",
        "#Creat model checkpoint to save the best model performance\n",
        "model_checkpoint = keras.callbacks.ModelCheckpoint(\n",
        "    \"my_checkpoint.h5\", save_best_only=True)\n",
        "\n",
        "#specify ealy_callback to stop training model if there's no improvement after 10 epochs    \n",
        "early_stopping = keras.callbacks.EarlyStopping(patience=10)"
      ],
      "execution_count": 21,
      "outputs": []
    },
    {
      "cell_type": "code",
      "metadata": {
        "colab": {
          "base_uri": "https://localhost:8080/"
        },
        "id": "_LOIM41Qr1tl",
        "outputId": "38dd2a2c-f2a0-4e35-fac1-a5c537642a82"
      },
      "source": [
        "# Check the model architecture\n",
        "New_DCNN=DCNN()\n",
        "New_DCNN.summary()"
      ],
      "execution_count": 22,
      "outputs": [
        {
          "output_type": "stream",
          "name": "stdout",
          "text": [
            "Model: \"sequential\"\n",
            "_________________________________________________________________\n",
            " Layer (type)                Output Shape              Param #   \n",
            "=================================================================\n",
            " conv1d (Conv1D)             (None, 20, 32)            5408      \n",
            "                                                                 \n",
            " conv1d_1 (Conv1D)           (None, 20, 64)            16448     \n",
            "                                                                 \n",
            " conv1d_2 (Conv1D)           (None, 20, 64)            32832     \n",
            "                                                                 \n",
            " conv1d_3 (Conv1D)           (None, 20, 32)            16416     \n",
            "                                                                 \n",
            " global_max_pooling1d (Globa  (None, 32)               0         \n",
            " lMaxPooling1D)                                                  \n",
            "                                                                 \n",
            " dropout (Dropout)           (None, 32)                0         \n",
            "                                                                 \n",
            " flatten (Flatten)           (None, 32)                0         \n",
            "                                                                 \n",
            " dense (Dense)               (None, 100)               3300      \n",
            "                                                                 \n",
            " dropout_1 (Dropout)         (None, 100)               0         \n",
            "                                                                 \n",
            " dense_1 (Dense)             (None, 1)                 101       \n",
            "                                                                 \n",
            "=================================================================\n",
            "Total params: 74,505\n",
            "Trainable params: 74,505\n",
            "Non-trainable params: 0\n",
            "_________________________________________________________________\n"
          ]
        }
      ]
    },
    {
      "cell_type": "code",
      "metadata": {
        "colab": {
          "base_uri": "https://localhost:8080/"
        },
        "id": "2i3Ap-Ti0R5i",
        "outputId": "056c23bd-4bbf-49ee-bb54-547a628744a5"
      },
      "source": [
        "# Train the model\n",
        "history = New_DCNN.fit(train_split_array,train_split_label, epochs=20, batch_size=200,\n",
        "                       validation_split=0.2,callbacks=[early_stopping, \n",
        "                        model_checkpoint])"
      ],
      "execution_count": 23,
      "outputs": [
        {
          "output_type": "stream",
          "name": "stdout",
          "text": [
            "Epoch 1/20\n",
            "61/61 [==============================] - 5s 67ms/step - loss: 5207.7080 - root_mean_squared_error: 72.1645 - val_loss: 1389.6442 - val_root_mean_squared_error: 37.2779\n",
            "Epoch 2/20\n",
            "61/61 [==============================] - 4s 63ms/step - loss: 1572.0181 - root_mean_squared_error: 39.6487 - val_loss: 818.8135 - val_root_mean_squared_error: 28.6149\n",
            "Epoch 3/20\n",
            "61/61 [==============================] - 4s 63ms/step - loss: 1073.5082 - root_mean_squared_error: 32.7644 - val_loss: 557.8494 - val_root_mean_squared_error: 23.6188\n",
            "Epoch 4/20\n",
            "61/61 [==============================] - 4s 62ms/step - loss: 961.5441 - root_mean_squared_error: 31.0088 - val_loss: 505.1238 - val_root_mean_squared_error: 22.4750\n",
            "Epoch 5/20\n",
            "61/61 [==============================] - 4s 63ms/step - loss: 962.2914 - root_mean_squared_error: 31.0208 - val_loss: 610.4301 - val_root_mean_squared_error: 24.7069\n",
            "Epoch 6/20\n",
            "61/61 [==============================] - 4s 63ms/step - loss: 904.8553 - root_mean_squared_error: 30.0808 - val_loss: 455.5184 - val_root_mean_squared_error: 21.3429\n",
            "Epoch 7/20\n",
            "61/61 [==============================] - 4s 62ms/step - loss: 868.7302 - root_mean_squared_error: 29.4742 - val_loss: 481.5510 - val_root_mean_squared_error: 21.9443\n",
            "Epoch 8/20\n",
            "61/61 [==============================] - 4s 62ms/step - loss: 878.5479 - root_mean_squared_error: 29.6403 - val_loss: 390.0021 - val_root_mean_squared_error: 19.7485\n",
            "Epoch 9/20\n",
            "61/61 [==============================] - 4s 62ms/step - loss: 878.6266 - root_mean_squared_error: 29.6416 - val_loss: 452.0604 - val_root_mean_squared_error: 21.2617\n",
            "Epoch 10/20\n",
            "61/61 [==============================] - 4s 62ms/step - loss: 831.2032 - root_mean_squared_error: 28.8306 - val_loss: 380.0196 - val_root_mean_squared_error: 19.4941\n",
            "Epoch 11/20\n",
            "61/61 [==============================] - 4s 63ms/step - loss: 842.4010 - root_mean_squared_error: 29.0241 - val_loss: 493.0606 - val_root_mean_squared_error: 22.2050\n",
            "Epoch 12/20\n",
            "61/61 [==============================] - 4s 63ms/step - loss: 804.1345 - root_mean_squared_error: 28.3573 - val_loss: 487.6006 - val_root_mean_squared_error: 22.0817\n",
            "Epoch 13/20\n",
            "61/61 [==============================] - 4s 62ms/step - loss: 817.5441 - root_mean_squared_error: 28.5927 - val_loss: 361.0990 - val_root_mean_squared_error: 19.0026\n",
            "Epoch 14/20\n",
            "61/61 [==============================] - 4s 63ms/step - loss: 804.3024 - root_mean_squared_error: 28.3602 - val_loss: 457.3760 - val_root_mean_squared_error: 21.3864\n",
            "Epoch 15/20\n",
            "61/61 [==============================] - 4s 62ms/step - loss: 763.6533 - root_mean_squared_error: 27.6343 - val_loss: 383.1091 - val_root_mean_squared_error: 19.5732\n",
            "Epoch 16/20\n",
            "61/61 [==============================] - 4s 62ms/step - loss: 783.3010 - root_mean_squared_error: 27.9875 - val_loss: 393.2238 - val_root_mean_squared_error: 19.8299\n",
            "Epoch 17/20\n",
            "61/61 [==============================] - 4s 62ms/step - loss: 760.5618 - root_mean_squared_error: 27.5783 - val_loss: 496.9915 - val_root_mean_squared_error: 22.2933\n",
            "Epoch 18/20\n",
            "61/61 [==============================] - 4s 64ms/step - loss: 717.0294 - root_mean_squared_error: 26.7774 - val_loss: 359.6613 - val_root_mean_squared_error: 18.9647\n",
            "Epoch 19/20\n",
            "61/61 [==============================] - 4s 64ms/step - loss: 718.7720 - root_mean_squared_error: 26.8099 - val_loss: 412.1805 - val_root_mean_squared_error: 20.3022\n",
            "Epoch 20/20\n",
            "61/61 [==============================] - 4s 64ms/step - loss: 723.5124 - root_mean_squared_error: 26.8982 - val_loss: 417.5438 - val_root_mean_squared_error: 20.4339\n"
          ]
        }
      ]
    },
    {
      "cell_type": "code",
      "metadata": {
        "id": "EsdT8z0svUnn",
        "colab": {
          "base_uri": "https://localhost:8080/",
          "height": 348
        },
        "outputId": "ffe858d8-11db-489b-b1fc-d3730c881ce5"
      },
      "source": [
        "# plot history\n",
        "def plot_loss(fit_history):\n",
        "    plt.figure(figsize=(13,5))\n",
        "    plt.plot(range(1, len(fit_history.history['loss'])+1), fit_history.history['loss'], label='train')\n",
        "    plt.plot(range(1, len(fit_history.history['val_loss'])+1), fit_history.history['val_loss'], label='validate')\n",
        "    plt.title('Deep Convolutionnal Neural Network (DCNN) model')\n",
        "    plt.xlabel('Epochs')\n",
        "    plt.ylabel('Loss')\n",
        "    plt.legend()\n",
        "    plt.show()\n",
        "\n",
        "plot_loss(history)"
      ],
      "execution_count": 24,
      "outputs": [
        {
          "output_type": "display_data",
          "data": {
            "image/png": "[encoded data removed]",
            "text/plain": [
              "<Figure size 936x360 with 1 Axes>"
            ]
          },
          "metadata": {
            "needs_background": "light"
          }
        }
      ]
    },
    {
      "cell_type": "code",
      "metadata": {
        "id": "YTJhPH-M6jvS"
      },
      "source": [
        "def evaluate(y_true, y_hat, label='test'):\n",
        "    mse = mean_squared_error(y_true, y_hat)\n",
        "    rmse = np.sqrt(mse)\n",
        "    mae = mean_absolute_error(y_true, y_hat)\n",
        "    variance = r2_score(y_true, y_hat)\n",
        "    print('{} set RMSE:{}, R2:{}, mae: {}'.format(label, rmse, variance, mae))"
      ],
      "execution_count": 25,
      "outputs": []
    },
    {
      "cell_type": "code",
      "metadata": {
        "id": "BaKwdvVEkO4X",
        "colab": {
          "base_uri": "https://localhost:8080/"
        },
        "outputId": "e43130b6-f8e9-4919-a3ff-56bb67f69d60"
      },
      "source": [
        "# predict and evaluate\n",
        "y_hat_train = New_DCNN.predict(train_array)\n",
        "evaluate(label_array, y_hat_train, 'train')\n",
        "\n",
        "y_hat_test = New_DCNN.predict(test_array)\n",
        "evaluate(rul_01, y_hat_test)"
      ],
      "execution_count": 26,
      "outputs": [
        {
          "output_type": "stream",
          "name": "stdout",
          "text": [
            "train set RMSE:18.14828109741211, R2:0.811894992926405, mae: 14.458889961242676\n",
            "test set RMSE:20.38985155458391, R2:0.7592487316830594, mae: 15.6485862159729\n"
          ]
        }
      ]
    },
    {
      "cell_type": "code",
      "metadata": {
        "id": "kshxjZee8oiR"
      },
      "source": [
        "def plot_results(predicted_data, true_data): \n",
        "    fig = plt.figure(facecolor='white') \n",
        "    plt.figure(figsize=(13,5))\n",
        "    plt.plot(true_data, label='True Data') \n",
        "    plt.plot(predicted_data, label='Prediction') \n",
        "    plt.title('DCNN Model')\n",
        "    plt.legend() \n",
        "    plt.show() "
      ],
      "execution_count": 27,
      "outputs": []
    },
    {
      "cell_type": "code",
      "metadata": {
        "colab": {
          "base_uri": "https://localhost:8080/",
          "height": 352
        },
        "id": "eUrLTi9W8p2n",
        "outputId": "420902af-3bde-44cb-8984-22be79206c04"
      },
      "source": [
        "plot_results(y_hat_test,rul_01)"
      ],
      "execution_count": 28,
      "outputs": [
        {
          "output_type": "display_data",
          "data": {
            "text/plain": [
              "<Figure size 432x288 with 0 Axes>"
            ]
          },
          "metadata": {}
        },
        {
          "output_type": "display_data",
          "data": {
            "image/png": "[encoded data removed]",
            "text/plain": [
              "<Figure size 936x360 with 1 Axes>"
            ]
          },
          "metadata": {
            "needs_background": "light"
          }
        }
      ]
    },
    {
      "cell_type": "markdown",
      "metadata": {
        "id": "qWWtEOHXvINq"
      },
      "source": [
        "##Conclusion: Results are acceptabl but I would go for GRU ;) "
      ]
    }
  ]
}
