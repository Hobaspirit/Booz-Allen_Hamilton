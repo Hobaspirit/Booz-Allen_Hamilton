{
  "nbformat": 4,
  "nbformat_minor": 0,
  "metadata": {
    "colab": {
      "name": "GRU.ipynb",
      "provenance": [],
      "collapsed_sections": []
    },
    "kernelspec": {
      "name": "python3",
      "display_name": "Python 3"
    },
    "language_info": {
      "name": "python"
    }
  },
  "cells": [
    {
      "cell_type": "markdown",
      "metadata": {
        "id": "6JpxZ1-StcX6"
      },
      "source": [
        "##We are going to predict remaining useful lifetime (RUL) of a turbofan engine based on C-MAPSS data (Sensors and operating settings)  "
      ]
    },
    {
      "cell_type": "markdown",
      "metadata": {
        "id": "yD2naAYnmPkZ"
      },
      "source": [
        "##Importing necessary librairies "
      ]
    },
    {
      "cell_type": "code",
      "metadata": {
        "id": "9nU_881Yk-a7"
      },
      "source": [
        "\n",
        "from matplotlib import rcParams\n",
        "import seaborn as sns\n",
        "import pandas as pd\n",
        "import numpy as np\n",
        "import csv\n",
        "import matplotlib.pyplot as plt\n",
        "from sklearn.model_selection import train_test_split\n",
        "from sklearn.linear_model import LogisticRegression\n",
        "from sklearn.metrics import accuracy_score as accuracy\n",
        "from sklearn.metrics import recall_score as recall\n",
        "from sklearn.metrics import precision_score as precision\n",
        "from sklearn.metrics import f1_score\n",
        "from sklearn.pipeline import make_pipeline\n",
        "from sklearn.preprocessing import StandardScaler\n",
        "from sklearn.model_selection import GroupShuffleSplit\n",
        "from sklearn.metrics import mean_squared_error, r2_score, mean_absolute_error\n",
        "from sklearn.cluster import KMeans\n",
        "from yellowbrick.cluster import KElbowVisualizer\n",
        "import tensorflow as tf \n",
        "from sklearn.decomposition import PCA\n",
        "import os\n",
        "import keras\n",
        "from keras.models import Sequential,load_model\n",
        "from keras.layers.recurrent import GRU\n",
        "from keras.layers.core import Dense, Activation, Dropout\n",
        "from numpy import newaxis\n",
        "from tensorflow.keras import optimizers\n",
        "from tensorflow.keras import Sequential\n",
        "from tensorflow.keras.layers import Dense, Dropout, Masking, TimeDistributed\n"
      ],
      "execution_count": 1,
      "outputs": []
    },
    {
      "cell_type": "markdown",
      "metadata": {
        "id": "Bn5Suh5xmZwW"
      },
      "source": [
        "##Exploratory Data Analysis "
      ]
    },
    {
      "cell_type": "code",
      "metadata": {
        "colab": {
          "base_uri": "https://localhost:8080/"
        },
        "id": "L8p3zvRDlSyF",
        "outputId": "7a8f20d9-77a2-4771-a73c-d144fe86fb38"
      },
      "source": [
        "#mount the drive at the indicated location \n",
        "from google.colab import drive\n",
        "drive.mount('/content/drive/')"
      ],
      "execution_count": 2,
      "outputs": [
        {
          "output_type": "stream",
          "name": "stdout",
          "text": [
            "Mounted at /content/drive/\n"
          ]
        }
      ]
    },
    {
      "cell_type": "code",
      "metadata": {
        "id": "-QBx9G0q2SJT"
      },
      "source": [
        "# Only raw data is provided without columns names, the lines bellow associate columns with their names \n",
        "x = ['sensor_' + str(i) for i in range(1, 22)]\n",
        "col_names = ['unit_number', 'time_cycles', 'op_setting_1', 'op_setting_2', 'op_setting_3'] + x"
      ],
      "execution_count": 3,
      "outputs": []
    },
    {
      "cell_type": "markdown",
      "metadata": {
        "id": "ba6v2WCprQIi"
      },
      "source": [
        "###Please import dataset where you've stored it, or you could download it here: https://ti.arc.nasa.gov/tech/dash/groups/pcoe/prognostic-data-repository/#turbofan"
      ]
    },
    {
      "cell_type": "code",
      "metadata": {
        "id": "JIc_r3OplPj9"
      },
      "source": [
        "train_01 = pd.read_csv('/content/drive/My Drive/Booz Allen/CMAPSSData/train_FD001.txt', delim_whitespace=True, header = None, names = col_names)"
      ],
      "execution_count": 4,
      "outputs": []
    },
    {
      "cell_type": "code",
      "metadata": {
        "id": "3EPqHzbB7JTH"
      },
      "source": [
        "test_01 = pd.read_csv('/content/drive/My Drive/Booz Allen/CMAPSSData/test_FD001.txt', delim_whitespace=True, header = None, names = col_names)"
      ],
      "execution_count": 5,
      "outputs": []
    },
    {
      "cell_type": "code",
      "metadata": {
        "id": "nHa3iG99lix3"
      },
      "source": [
        "rul_01 = pd.read_csv('/content/drive/My Drive/Booz Allen/CMAPSSData/RUL_FD001.txt', delim_whitespace=True, header = None)"
      ],
      "execution_count": 6,
      "outputs": []
    },
    {
      "cell_type": "markdown",
      "metadata": {
        "id": "7GZ7vcHPsGE0"
      },
      "source": [
        "###Let's see how our data looks like "
      ]
    },
    {
      "cell_type": "code",
      "metadata": {
        "colab": {
          "base_uri": "https://localhost:8080/",
          "height": 222
        },
        "id": "aSuNop93_GYd",
        "outputId": "85d42d78-6009-4f3d-c53c-f224502f0082"
      },
      "source": [
        "train_01.head()"
      ],
      "execution_count": 7,
      "outputs": [
        {
          "output_type": "execute_result",
          "data": {
            "text/html": [
              "<div>\n",
              "<style scoped>\n",
              "    .dataframe tbody tr th:only-of-type {\n",
              "        vertical-align: middle;\n",
              "    }\n",
              "\n",
              "    .dataframe tbody tr th {\n",
              "        vertical-align: top;\n",
              "    }\n",
              "\n",
              "    .dataframe thead th {\n",
              "        text-align: right;\n",
              "    }\n",
              "</style>\n",
              "<table border=\"1\" class=\"dataframe\">\n",
              "  <thead>\n",
              "    <tr style=\"text-align: right;\">\n",
              "      <th></th>\n",
              "      <th>unit_number</th>\n",
              "      <th>time_cycles</th>\n",
              "      <th>op_setting_1</th>\n",
              "      <th>op_setting_2</th>\n",
              "      <th>op_setting_3</th>\n",
              "      <th>sensor_1</th>\n",
              "      <th>sensor_2</th>\n",
              "      <th>sensor_3</th>\n",
              "      <th>sensor_4</th>\n",
              "      <th>sensor_5</th>\n",
              "      <th>sensor_6</th>\n",
              "      <th>sensor_7</th>\n",
              "      <th>sensor_8</th>\n",
              "      <th>sensor_9</th>\n",
              "      <th>sensor_10</th>\n",
              "      <th>sensor_11</th>\n",
              "      <th>sensor_12</th>\n",
              "      <th>sensor_13</th>\n",
              "      <th>sensor_14</th>\n",
              "      <th>sensor_15</th>\n",
              "      <th>sensor_16</th>\n",
              "      <th>sensor_17</th>\n",
              "      <th>sensor_18</th>\n",
              "      <th>sensor_19</th>\n",
              "      <th>sensor_20</th>\n",
              "      <th>sensor_21</th>\n",
              "    </tr>\n",
              "  </thead>\n",
              "  <tbody>\n",
              "    <tr>\n",
              "      <th>0</th>\n",
              "      <td>1</td>\n",
              "      <td>1</td>\n",
              "      <td>-0.0007</td>\n",
              "      <td>-0.0004</td>\n",
              "      <td>100.0</td>\n",
              "      <td>518.67</td>\n",
              "      <td>641.82</td>\n",
              "      <td>1589.70</td>\n",
              "      <td>1400.60</td>\n",
              "      <td>14.62</td>\n",
              "      <td>21.61</td>\n",
              "      <td>554.36</td>\n",
              "      <td>2388.06</td>\n",
              "      <td>9046.19</td>\n",
              "      <td>1.3</td>\n",
              "      <td>47.47</td>\n",
              "      <td>521.66</td>\n",
              "      <td>2388.02</td>\n",
              "      <td>8138.62</td>\n",
              "      <td>8.4195</td>\n",
              "      <td>0.03</td>\n",
              "      <td>392</td>\n",
              "      <td>2388</td>\n",
              "      <td>100.0</td>\n",
              "      <td>39.06</td>\n",
              "      <td>23.4190</td>\n",
              "    </tr>\n",
              "    <tr>\n",
              "      <th>1</th>\n",
              "      <td>1</td>\n",
              "      <td>2</td>\n",
              "      <td>0.0019</td>\n",
              "      <td>-0.0003</td>\n",
              "      <td>100.0</td>\n",
              "      <td>518.67</td>\n",
              "      <td>642.15</td>\n",
              "      <td>1591.82</td>\n",
              "      <td>1403.14</td>\n",
              "      <td>14.62</td>\n",
              "      <td>21.61</td>\n",
              "      <td>553.75</td>\n",
              "      <td>2388.04</td>\n",
              "      <td>9044.07</td>\n",
              "      <td>1.3</td>\n",
              "      <td>47.49</td>\n",
              "      <td>522.28</td>\n",
              "      <td>2388.07</td>\n",
              "      <td>8131.49</td>\n",
              "      <td>8.4318</td>\n",
              "      <td>0.03</td>\n",
              "      <td>392</td>\n",
              "      <td>2388</td>\n",
              "      <td>100.0</td>\n",
              "      <td>39.00</td>\n",
              "      <td>23.4236</td>\n",
              "    </tr>\n",
              "    <tr>\n",
              "      <th>2</th>\n",
              "      <td>1</td>\n",
              "      <td>3</td>\n",
              "      <td>-0.0043</td>\n",
              "      <td>0.0003</td>\n",
              "      <td>100.0</td>\n",
              "      <td>518.67</td>\n",
              "      <td>642.35</td>\n",
              "      <td>1587.99</td>\n",
              "      <td>1404.20</td>\n",
              "      <td>14.62</td>\n",
              "      <td>21.61</td>\n",
              "      <td>554.26</td>\n",
              "      <td>2388.08</td>\n",
              "      <td>9052.94</td>\n",
              "      <td>1.3</td>\n",
              "      <td>47.27</td>\n",
              "      <td>522.42</td>\n",
              "      <td>2388.03</td>\n",
              "      <td>8133.23</td>\n",
              "      <td>8.4178</td>\n",
              "      <td>0.03</td>\n",
              "      <td>390</td>\n",
              "      <td>2388</td>\n",
              "      <td>100.0</td>\n",
              "      <td>38.95</td>\n",
              "      <td>23.3442</td>\n",
              "    </tr>\n",
              "    <tr>\n",
              "      <th>3</th>\n",
              "      <td>1</td>\n",
              "      <td>4</td>\n",
              "      <td>0.0007</td>\n",
              "      <td>0.0000</td>\n",
              "      <td>100.0</td>\n",
              "      <td>518.67</td>\n",
              "      <td>642.35</td>\n",
              "      <td>1582.79</td>\n",
              "      <td>1401.87</td>\n",
              "      <td>14.62</td>\n",
              "      <td>21.61</td>\n",
              "      <td>554.45</td>\n",
              "      <td>2388.11</td>\n",
              "      <td>9049.48</td>\n",
              "      <td>1.3</td>\n",
              "      <td>47.13</td>\n",
              "      <td>522.86</td>\n",
              "      <td>2388.08</td>\n",
              "      <td>8133.83</td>\n",
              "      <td>8.3682</td>\n",
              "      <td>0.03</td>\n",
              "      <td>392</td>\n",
              "      <td>2388</td>\n",
              "      <td>100.0</td>\n",
              "      <td>38.88</td>\n",
              "      <td>23.3739</td>\n",
              "    </tr>\n",
              "    <tr>\n",
              "      <th>4</th>\n",
              "      <td>1</td>\n",
              "      <td>5</td>\n",
              "      <td>-0.0019</td>\n",
              "      <td>-0.0002</td>\n",
              "      <td>100.0</td>\n",
              "      <td>518.67</td>\n",
              "      <td>642.37</td>\n",
              "      <td>1582.85</td>\n",
              "      <td>1406.22</td>\n",
              "      <td>14.62</td>\n",
              "      <td>21.61</td>\n",
              "      <td>554.00</td>\n",
              "      <td>2388.06</td>\n",
              "      <td>9055.15</td>\n",
              "      <td>1.3</td>\n",
              "      <td>47.28</td>\n",
              "      <td>522.19</td>\n",
              "      <td>2388.04</td>\n",
              "      <td>8133.80</td>\n",
              "      <td>8.4294</td>\n",
              "      <td>0.03</td>\n",
              "      <td>393</td>\n",
              "      <td>2388</td>\n",
              "      <td>100.0</td>\n",
              "      <td>38.90</td>\n",
              "      <td>23.4044</td>\n",
              "    </tr>\n",
              "  </tbody>\n",
              "</table>\n",
              "</div>"
            ],
            "text/plain": [
              "   unit_number  time_cycles  op_setting_1  ...  sensor_19  sensor_20  sensor_21\n",
              "0            1            1       -0.0007  ...      100.0      39.06    23.4190\n",
              "1            1            2        0.0019  ...      100.0      39.00    23.4236\n",
              "2            1            3       -0.0043  ...      100.0      38.95    23.3442\n",
              "3            1            4        0.0007  ...      100.0      38.88    23.3739\n",
              "4            1            5       -0.0019  ...      100.0      38.90    23.4044\n",
              "\n",
              "[5 rows x 26 columns]"
            ]
          },
          "metadata": {},
          "execution_count": 7
        }
      ]
    },
    {
      "cell_type": "code",
      "metadata": {
        "colab": {
          "base_uri": "https://localhost:8080/",
          "height": 222
        },
        "id": "qxvsxkbE_D4i",
        "outputId": "eb417d43-30fc-46df-a1b9-91366c7d575f"
      },
      "source": [
        "test_01.head()"
      ],
      "execution_count": 8,
      "outputs": [
        {
          "output_type": "execute_result",
          "data": {
            "text/html": [
              "<div>\n",
              "<style scoped>\n",
              "    .dataframe tbody tr th:only-of-type {\n",
              "        vertical-align: middle;\n",
              "    }\n",
              "\n",
              "    .dataframe tbody tr th {\n",
              "        vertical-align: top;\n",
              "    }\n",
              "\n",
              "    .dataframe thead th {\n",
              "        text-align: right;\n",
              "    }\n",
              "</style>\n",
              "<table border=\"1\" class=\"dataframe\">\n",
              "  <thead>\n",
              "    <tr style=\"text-align: right;\">\n",
              "      <th></th>\n",
              "      <th>unit_number</th>\n",
              "      <th>time_cycles</th>\n",
              "      <th>op_setting_1</th>\n",
              "      <th>op_setting_2</th>\n",
              "      <th>op_setting_3</th>\n",
              "      <th>sensor_1</th>\n",
              "      <th>sensor_2</th>\n",
              "      <th>sensor_3</th>\n",
              "      <th>sensor_4</th>\n",
              "      <th>sensor_5</th>\n",
              "      <th>sensor_6</th>\n",
              "      <th>sensor_7</th>\n",
              "      <th>sensor_8</th>\n",
              "      <th>sensor_9</th>\n",
              "      <th>sensor_10</th>\n",
              "      <th>sensor_11</th>\n",
              "      <th>sensor_12</th>\n",
              "      <th>sensor_13</th>\n",
              "      <th>sensor_14</th>\n",
              "      <th>sensor_15</th>\n",
              "      <th>sensor_16</th>\n",
              "      <th>sensor_17</th>\n",
              "      <th>sensor_18</th>\n",
              "      <th>sensor_19</th>\n",
              "      <th>sensor_20</th>\n",
              "      <th>sensor_21</th>\n",
              "    </tr>\n",
              "  </thead>\n",
              "  <tbody>\n",
              "    <tr>\n",
              "      <th>0</th>\n",
              "      <td>1</td>\n",
              "      <td>1</td>\n",
              "      <td>0.0023</td>\n",
              "      <td>0.0003</td>\n",
              "      <td>100.0</td>\n",
              "      <td>518.67</td>\n",
              "      <td>643.02</td>\n",
              "      <td>1585.29</td>\n",
              "      <td>1398.21</td>\n",
              "      <td>14.62</td>\n",
              "      <td>21.61</td>\n",
              "      <td>553.90</td>\n",
              "      <td>2388.04</td>\n",
              "      <td>9050.17</td>\n",
              "      <td>1.3</td>\n",
              "      <td>47.20</td>\n",
              "      <td>521.72</td>\n",
              "      <td>2388.03</td>\n",
              "      <td>8125.55</td>\n",
              "      <td>8.4052</td>\n",
              "      <td>0.03</td>\n",
              "      <td>392</td>\n",
              "      <td>2388</td>\n",
              "      <td>100.0</td>\n",
              "      <td>38.86</td>\n",
              "      <td>23.3735</td>\n",
              "    </tr>\n",
              "    <tr>\n",
              "      <th>1</th>\n",
              "      <td>1</td>\n",
              "      <td>2</td>\n",
              "      <td>-0.0027</td>\n",
              "      <td>-0.0003</td>\n",
              "      <td>100.0</td>\n",
              "      <td>518.67</td>\n",
              "      <td>641.71</td>\n",
              "      <td>1588.45</td>\n",
              "      <td>1395.42</td>\n",
              "      <td>14.62</td>\n",
              "      <td>21.61</td>\n",
              "      <td>554.85</td>\n",
              "      <td>2388.01</td>\n",
              "      <td>9054.42</td>\n",
              "      <td>1.3</td>\n",
              "      <td>47.50</td>\n",
              "      <td>522.16</td>\n",
              "      <td>2388.06</td>\n",
              "      <td>8139.62</td>\n",
              "      <td>8.3803</td>\n",
              "      <td>0.03</td>\n",
              "      <td>393</td>\n",
              "      <td>2388</td>\n",
              "      <td>100.0</td>\n",
              "      <td>39.02</td>\n",
              "      <td>23.3916</td>\n",
              "    </tr>\n",
              "    <tr>\n",
              "      <th>2</th>\n",
              "      <td>1</td>\n",
              "      <td>3</td>\n",
              "      <td>0.0003</td>\n",
              "      <td>0.0001</td>\n",
              "      <td>100.0</td>\n",
              "      <td>518.67</td>\n",
              "      <td>642.46</td>\n",
              "      <td>1586.94</td>\n",
              "      <td>1401.34</td>\n",
              "      <td>14.62</td>\n",
              "      <td>21.61</td>\n",
              "      <td>554.11</td>\n",
              "      <td>2388.05</td>\n",
              "      <td>9056.96</td>\n",
              "      <td>1.3</td>\n",
              "      <td>47.50</td>\n",
              "      <td>521.97</td>\n",
              "      <td>2388.03</td>\n",
              "      <td>8130.10</td>\n",
              "      <td>8.4441</td>\n",
              "      <td>0.03</td>\n",
              "      <td>393</td>\n",
              "      <td>2388</td>\n",
              "      <td>100.0</td>\n",
              "      <td>39.08</td>\n",
              "      <td>23.4166</td>\n",
              "    </tr>\n",
              "    <tr>\n",
              "      <th>3</th>\n",
              "      <td>1</td>\n",
              "      <td>4</td>\n",
              "      <td>0.0042</td>\n",
              "      <td>0.0000</td>\n",
              "      <td>100.0</td>\n",
              "      <td>518.67</td>\n",
              "      <td>642.44</td>\n",
              "      <td>1584.12</td>\n",
              "      <td>1406.42</td>\n",
              "      <td>14.62</td>\n",
              "      <td>21.61</td>\n",
              "      <td>554.07</td>\n",
              "      <td>2388.03</td>\n",
              "      <td>9045.29</td>\n",
              "      <td>1.3</td>\n",
              "      <td>47.28</td>\n",
              "      <td>521.38</td>\n",
              "      <td>2388.05</td>\n",
              "      <td>8132.90</td>\n",
              "      <td>8.3917</td>\n",
              "      <td>0.03</td>\n",
              "      <td>391</td>\n",
              "      <td>2388</td>\n",
              "      <td>100.0</td>\n",
              "      <td>39.00</td>\n",
              "      <td>23.3737</td>\n",
              "    </tr>\n",
              "    <tr>\n",
              "      <th>4</th>\n",
              "      <td>1</td>\n",
              "      <td>5</td>\n",
              "      <td>0.0014</td>\n",
              "      <td>0.0000</td>\n",
              "      <td>100.0</td>\n",
              "      <td>518.67</td>\n",
              "      <td>642.51</td>\n",
              "      <td>1587.19</td>\n",
              "      <td>1401.92</td>\n",
              "      <td>14.62</td>\n",
              "      <td>21.61</td>\n",
              "      <td>554.16</td>\n",
              "      <td>2388.01</td>\n",
              "      <td>9044.55</td>\n",
              "      <td>1.3</td>\n",
              "      <td>47.31</td>\n",
              "      <td>522.15</td>\n",
              "      <td>2388.03</td>\n",
              "      <td>8129.54</td>\n",
              "      <td>8.4031</td>\n",
              "      <td>0.03</td>\n",
              "      <td>390</td>\n",
              "      <td>2388</td>\n",
              "      <td>100.0</td>\n",
              "      <td>38.99</td>\n",
              "      <td>23.4130</td>\n",
              "    </tr>\n",
              "  </tbody>\n",
              "</table>\n",
              "</div>"
            ],
            "text/plain": [
              "   unit_number  time_cycles  op_setting_1  ...  sensor_19  sensor_20  sensor_21\n",
              "0            1            1        0.0023  ...      100.0      38.86    23.3735\n",
              "1            1            2       -0.0027  ...      100.0      39.02    23.3916\n",
              "2            1            3        0.0003  ...      100.0      39.08    23.4166\n",
              "3            1            4        0.0042  ...      100.0      39.00    23.3737\n",
              "4            1            5        0.0014  ...      100.0      38.99    23.4130\n",
              "\n",
              "[5 rows x 26 columns]"
            ]
          },
          "metadata": {},
          "execution_count": 8
        }
      ]
    },
    {
      "cell_type": "markdown",
      "metadata": {
        "id": "9TfQjTNVRfan"
      },
      "source": [
        "##Data Preprocessing "
      ]
    },
    {
      "cell_type": "code",
      "metadata": {
        "id": "KbKmXr31naGp"
      },
      "source": [
        "def add_operating_condition(df):\n",
        "    df_op_cond = df.copy()\n",
        "    \n",
        "    df_op_cond['op_setting_1'] = df_op_cond['op_setting_1'].round()\n",
        "    df_op_cond['op_setting_2'] = df_op_cond['op_setting_2'].round(decimals=2)\n",
        "    \n",
        "    # converting settings to string and concatanating makes the operating condition into a categorical variable\n",
        "    df_op_cond['op_cond'] = df_op_cond['op_setting_1'].astype(str) + '_' + \\\n",
        "                        df_op_cond['op_setting_2'].astype(str) + '_' + \\\n",
        "                        df_op_cond['op_setting_3'].astype(str)\n",
        "    \n",
        "    return df_op_cond\n",
        "\n",
        "def condition_scaler(df_train, df_test, sensor_names):\n",
        "    # apply operating condition specific scaling\n",
        "    scaler = StandardScaler()\n",
        "    for condition in df_train['op_cond'].unique():\n",
        "        scaler.fit(df_train.loc[df_train['op_cond']==condition, sensor_names])\n",
        "        df_train.loc[df_train['op_cond']==condition, sensor_names] = scaler.transform(df_train.loc[df_train['op_cond']==condition, sensor_names])\n",
        "        df_test.loc[df_test['op_cond']==condition, sensor_names] = scaler.transform(df_test.loc[df_test['op_cond']==condition, sensor_names])\n",
        "    return df_train, df_test"
      ],
      "execution_count": 9,
      "outputs": []
    },
    {
      "cell_type": "code",
      "metadata": {
        "id": "SJXMSSd2xb2J"
      },
      "source": [
        "def exponential_smoothing(df, sensors, n_samples, alpha=0.4):\n",
        "    df = df.copy()\n",
        "    # first, take the exponential weighted mean\n",
        "    df[sensors] = df.groupby('unit_number')[sensors].apply(lambda x: x.ewm(alpha=alpha).mean())\n",
        "    # second, drop first n_samples of each unit_nr to reduce filter delay\n",
        "    def create_mask(data, samples):\n",
        "        result = np.ones_like(data)\n",
        "        result[0:samples] = 0\n",
        "        return result\n",
        "    \n",
        "    mask = df.groupby('unit_number')['unit_number'].transform(create_mask, samples=n_samples).astype(bool).reset_index(drop=True)\n",
        "    df = df[mask.iloc[:, 0]]\n",
        "    \n",
        "    return df"
      ],
      "execution_count": 10,
      "outputs": []
    },
    {
      "cell_type": "code",
      "metadata": {
        "id": "qbC4ixOCxugj"
      },
      "source": [
        "gss = GroupShuffleSplit(n_splits=1, train_size=0.80, random_state=42)  # eventhough we set np and tf seeds, gss requires its own seed\n",
        "\n",
        "def train_val_group_split(X, y, gss, groups, print_groups=True):\n",
        "    \n",
        "    for idx_train, idx_val in gss.split(X, y, groups=groups):\n",
        "        if print_groups:\n",
        "            print('train_split_engines', train.iloc[idx_train]['unit_nr'].unique())\n",
        "            print('validate_split_engines', train.iloc[idx_val]['unit_nr'].unique(), '\\n')\n",
        "\n",
        "        X_train_split = X.iloc[idx_train].copy()\n",
        "        y_train_split = y.iloc[idx_train].copy()\n",
        "        X_val_split = X.iloc[idx_val].copy()\n",
        "        y_val_split = y.iloc[idx_val].copy()\n",
        "    return X_train_split, y_train_split, X_val_split, y_val_split"
      ],
      "execution_count": 11,
      "outputs": []
    },
    {
      "cell_type": "markdown",
      "metadata": {
        "id": "ozySYSwfq_V6"
      },
      "source": [
        "###This function creates3D sequences of data , So far our data is 2D our model GRU needs 3D data ==> the sequences here are created only for one engine unit "
      ]
    },
    {
      "cell_type": "code",
      "metadata": {
        "id": "KmG1mrhL00rq"
      },
      "source": [
        "def gen_train_data(df, sequence_length, columns):\n",
        "    data = df[columns].values\n",
        "    num_elements = data.shape[0]\n",
        "\n",
        "    # -1 and +1 because of Python indexing\n",
        "    for start, stop in zip(range(0, num_elements-(sequence_length-1)), range(sequence_length, num_elements+1)):\n",
        "        yield data[start:stop, :]\n"
      ],
      "execution_count": 12,
      "outputs": []
    },
    {
      "cell_type": "markdown",
      "metadata": {
        "id": "qCjpTv17q3bD"
      },
      "source": [
        "###Generate sequences for all engine units "
      ]
    },
    {
      "cell_type": "code",
      "metadata": {
        "id": "_L3EG0tD2fUe"
      },
      "source": [
        "def gen_data_wrapper(df, sequence_length, columns, unit_nrs=np.array([])):\n",
        "    if unit_nrs.size <= 0:\n",
        "        unit_nrs = df['unit_number'].unique()\n",
        "        \n",
        "    data_gen = (list(gen_train_data(df[df['unit_number']==unit_nr], sequence_length, columns))\n",
        "               for unit_nr in unit_nrs)\n",
        "    data_array = np.concatenate(list(data_gen)).astype(np.float32)\n",
        "    return data_array"
      ],
      "execution_count": 13,
      "outputs": []
    },
    {
      "cell_type": "markdown",
      "metadata": {
        "id": "l5c6SYVvqtyQ"
      },
      "source": [
        "###Generete sequences for labels, labels are what we are predicting"
      ]
    },
    {
      "cell_type": "code",
      "metadata": {
        "id": "jn7G5jbO25cj"
      },
      "source": [
        " \n",
        "def gen_labels(df, sequence_length, label):\n",
        "    data_matrix = df[label].values\n",
        "    num_elements = data_matrix.shape[0]\n",
        "\n",
        "    # -1 because I want to predict the rul of that last row in the sequence, not the next row\n",
        "    return data_matrix[sequence_length-1:num_elements, :]  \n",
        "\n",
        "def gen_label_wrapper(df, sequence_length, label, unit_nrs=np.array([])):\n",
        "    if unit_nrs.size <= 0:\n",
        "        unit_nrs = df['unit_number'].unique()\n",
        "        \n",
        "    label_gen = [gen_labels(df[df['unit_number']==unit_nr], sequence_length, label) \n",
        "                for unit_nr in unit_nrs]\n",
        "    label_array = np.concatenate(label_gen).astype(np.float32)\n",
        "    return label_array"
      ],
      "execution_count": 14,
      "outputs": []
    },
    {
      "cell_type": "code",
      "metadata": {
        "id": "twzUBF0K3wE4"
      },
      "source": [
        "def gen_test_data(df, sequence_length, columns, mask_value):\n",
        "    if df.shape[0] < sequence_length:\n",
        "        data_matrix = np.full(shape=(sequence_length, len(columns)), fill_value=mask_value) # pad\n",
        "        idx = data_matrix.shape[0] - df.shape[0]\n",
        "        data_matrix[idx:,:] = df[columns].values  # fill with available data\n",
        "    else:\n",
        "        data_matrix = df[columns].values\n",
        "        \n",
        "    # specifically yield the last possible sequence\n",
        "    stop = num_elements = data_matrix.shape[0]\n",
        "    start = stop - sequence_length\n",
        "    for i in list(range(1)):\n",
        "        yield data_matrix[start:stop, :]  "
      ],
      "execution_count": 15,
      "outputs": []
    },
    {
      "cell_type": "code",
      "metadata": {
        "colab": {
          "base_uri": "https://localhost:8080/",
          "height": 222
        },
        "id": "psqZACeS3G89",
        "outputId": "1a4d96ca-8b3b-424f-98c3-0c3d67411f77"
      },
      "source": [
        "def add_remaining_useful_life(df):\n",
        "    # Get the total number of cycles for each unit\n",
        "    grouped_by_unit = df.groupby(by=\"unit_number\")\n",
        "    max_cycle = grouped_by_unit[\"time_cycles\"].max()\n",
        "    \n",
        "    # Merge the max cycle back into the original frame\n",
        "    result_frame = df.merge(max_cycle.to_frame(name='max_cycle'), left_on='unit_number', right_index=True)\n",
        "    \n",
        "    # Calculate remaining useful life for each row\n",
        "    remaining_useful_life = result_frame[\"max_cycle\"] - result_frame[\"time_cycles\"]\n",
        "    result_frame[\"RUL\"] = remaining_useful_life\n",
        "    \n",
        "    # drop max_cycle as it's no longer needed\n",
        "    result_frame = result_frame.drop(\"max_cycle\", axis=1)\n",
        "    return result_frame\n",
        "\n",
        "train_01 = add_remaining_useful_life(train_01)\n",
        "train_01.head()"
      ],
      "execution_count": 16,
      "outputs": [
        {
          "output_type": "execute_result",
          "data": {
            "text/html": [
              "<div>\n",
              "<style scoped>\n",
              "    .dataframe tbody tr th:only-of-type {\n",
              "        vertical-align: middle;\n",
              "    }\n",
              "\n",
              "    .dataframe tbody tr th {\n",
              "        vertical-align: top;\n",
              "    }\n",
              "\n",
              "    .dataframe thead th {\n",
              "        text-align: right;\n",
              "    }\n",
              "</style>\n",
              "<table border=\"1\" class=\"dataframe\">\n",
              "  <thead>\n",
              "    <tr style=\"text-align: right;\">\n",
              "      <th></th>\n",
              "      <th>unit_number</th>\n",
              "      <th>time_cycles</th>\n",
              "      <th>op_setting_1</th>\n",
              "      <th>op_setting_2</th>\n",
              "      <th>op_setting_3</th>\n",
              "      <th>sensor_1</th>\n",
              "      <th>sensor_2</th>\n",
              "      <th>sensor_3</th>\n",
              "      <th>sensor_4</th>\n",
              "      <th>sensor_5</th>\n",
              "      <th>sensor_6</th>\n",
              "      <th>sensor_7</th>\n",
              "      <th>sensor_8</th>\n",
              "      <th>sensor_9</th>\n",
              "      <th>sensor_10</th>\n",
              "      <th>sensor_11</th>\n",
              "      <th>sensor_12</th>\n",
              "      <th>sensor_13</th>\n",
              "      <th>sensor_14</th>\n",
              "      <th>sensor_15</th>\n",
              "      <th>sensor_16</th>\n",
              "      <th>sensor_17</th>\n",
              "      <th>sensor_18</th>\n",
              "      <th>sensor_19</th>\n",
              "      <th>sensor_20</th>\n",
              "      <th>sensor_21</th>\n",
              "      <th>RUL</th>\n",
              "    </tr>\n",
              "  </thead>\n",
              "  <tbody>\n",
              "    <tr>\n",
              "      <th>0</th>\n",
              "      <td>1</td>\n",
              "      <td>1</td>\n",
              "      <td>-0.0007</td>\n",
              "      <td>-0.0004</td>\n",
              "      <td>100.0</td>\n",
              "      <td>518.67</td>\n",
              "      <td>641.82</td>\n",
              "      <td>1589.70</td>\n",
              "      <td>1400.60</td>\n",
              "      <td>14.62</td>\n",
              "      <td>21.61</td>\n",
              "      <td>554.36</td>\n",
              "      <td>2388.06</td>\n",
              "      <td>9046.19</td>\n",
              "      <td>1.3</td>\n",
              "      <td>47.47</td>\n",
              "      <td>521.66</td>\n",
              "      <td>2388.02</td>\n",
              "      <td>8138.62</td>\n",
              "      <td>8.4195</td>\n",
              "      <td>0.03</td>\n",
              "      <td>392</td>\n",
              "      <td>2388</td>\n",
              "      <td>100.0</td>\n",
              "      <td>39.06</td>\n",
              "      <td>23.4190</td>\n",
              "      <td>191</td>\n",
              "    </tr>\n",
              "    <tr>\n",
              "      <th>1</th>\n",
              "      <td>1</td>\n",
              "      <td>2</td>\n",
              "      <td>0.0019</td>\n",
              "      <td>-0.0003</td>\n",
              "      <td>100.0</td>\n",
              "      <td>518.67</td>\n",
              "      <td>642.15</td>\n",
              "      <td>1591.82</td>\n",
              "      <td>1403.14</td>\n",
              "      <td>14.62</td>\n",
              "      <td>21.61</td>\n",
              "      <td>553.75</td>\n",
              "      <td>2388.04</td>\n",
              "      <td>9044.07</td>\n",
              "      <td>1.3</td>\n",
              "      <td>47.49</td>\n",
              "      <td>522.28</td>\n",
              "      <td>2388.07</td>\n",
              "      <td>8131.49</td>\n",
              "      <td>8.4318</td>\n",
              "      <td>0.03</td>\n",
              "      <td>392</td>\n",
              "      <td>2388</td>\n",
              "      <td>100.0</td>\n",
              "      <td>39.00</td>\n",
              "      <td>23.4236</td>\n",
              "      <td>190</td>\n",
              "    </tr>\n",
              "    <tr>\n",
              "      <th>2</th>\n",
              "      <td>1</td>\n",
              "      <td>3</td>\n",
              "      <td>-0.0043</td>\n",
              "      <td>0.0003</td>\n",
              "      <td>100.0</td>\n",
              "      <td>518.67</td>\n",
              "      <td>642.35</td>\n",
              "      <td>1587.99</td>\n",
              "      <td>1404.20</td>\n",
              "      <td>14.62</td>\n",
              "      <td>21.61</td>\n",
              "      <td>554.26</td>\n",
              "      <td>2388.08</td>\n",
              "      <td>9052.94</td>\n",
              "      <td>1.3</td>\n",
              "      <td>47.27</td>\n",
              "      <td>522.42</td>\n",
              "      <td>2388.03</td>\n",
              "      <td>8133.23</td>\n",
              "      <td>8.4178</td>\n",
              "      <td>0.03</td>\n",
              "      <td>390</td>\n",
              "      <td>2388</td>\n",
              "      <td>100.0</td>\n",
              "      <td>38.95</td>\n",
              "      <td>23.3442</td>\n",
              "      <td>189</td>\n",
              "    </tr>\n",
              "    <tr>\n",
              "      <th>3</th>\n",
              "      <td>1</td>\n",
              "      <td>4</td>\n",
              "      <td>0.0007</td>\n",
              "      <td>0.0000</td>\n",
              "      <td>100.0</td>\n",
              "      <td>518.67</td>\n",
              "      <td>642.35</td>\n",
              "      <td>1582.79</td>\n",
              "      <td>1401.87</td>\n",
              "      <td>14.62</td>\n",
              "      <td>21.61</td>\n",
              "      <td>554.45</td>\n",
              "      <td>2388.11</td>\n",
              "      <td>9049.48</td>\n",
              "      <td>1.3</td>\n",
              "      <td>47.13</td>\n",
              "      <td>522.86</td>\n",
              "      <td>2388.08</td>\n",
              "      <td>8133.83</td>\n",
              "      <td>8.3682</td>\n",
              "      <td>0.03</td>\n",
              "      <td>392</td>\n",
              "      <td>2388</td>\n",
              "      <td>100.0</td>\n",
              "      <td>38.88</td>\n",
              "      <td>23.3739</td>\n",
              "      <td>188</td>\n",
              "    </tr>\n",
              "    <tr>\n",
              "      <th>4</th>\n",
              "      <td>1</td>\n",
              "      <td>5</td>\n",
              "      <td>-0.0019</td>\n",
              "      <td>-0.0002</td>\n",
              "      <td>100.0</td>\n",
              "      <td>518.67</td>\n",
              "      <td>642.37</td>\n",
              "      <td>1582.85</td>\n",
              "      <td>1406.22</td>\n",
              "      <td>14.62</td>\n",
              "      <td>21.61</td>\n",
              "      <td>554.00</td>\n",
              "      <td>2388.06</td>\n",
              "      <td>9055.15</td>\n",
              "      <td>1.3</td>\n",
              "      <td>47.28</td>\n",
              "      <td>522.19</td>\n",
              "      <td>2388.04</td>\n",
              "      <td>8133.80</td>\n",
              "      <td>8.4294</td>\n",
              "      <td>0.03</td>\n",
              "      <td>393</td>\n",
              "      <td>2388</td>\n",
              "      <td>100.0</td>\n",
              "      <td>38.90</td>\n",
              "      <td>23.4044</td>\n",
              "      <td>187</td>\n",
              "    </tr>\n",
              "  </tbody>\n",
              "</table>\n",
              "</div>"
            ],
            "text/plain": [
              "   unit_number  time_cycles  op_setting_1  ...  sensor_20  sensor_21  RUL\n",
              "0            1            1       -0.0007  ...      39.06    23.4190  191\n",
              "1            1            2        0.0019  ...      39.00    23.4236  190\n",
              "2            1            3       -0.0043  ...      38.95    23.3442  189\n",
              "3            1            4        0.0007  ...      38.88    23.3739  188\n",
              "4            1            5       -0.0019  ...      38.90    23.4044  187\n",
              "\n",
              "[5 rows x 27 columns]"
            ]
          },
          "metadata": {},
          "execution_count": 16
        }
      ]
    },
    {
      "cell_type": "code",
      "metadata": {
        "id": "KEgTe125wvWD"
      },
      "source": [
        "sensors = ['sensor_' + str(i) for i in range(1, 22)]"
      ],
      "execution_count": 17,
      "outputs": []
    },
    {
      "cell_type": "code",
      "metadata": {
        "id": "kJn-b_jK36Iz"
      },
      "source": [
        "sequence_length = 20\n",
        "train_01['RUL'].clip(upper=125, inplace=True)\n",
        "\n",
        "X_train_interim = add_operating_condition(train_01)\n",
        "X_test_interim = add_operating_condition(test_01)\n",
        "\n",
        "X_train_interim, X_test_interim = condition_scaler(X_train_interim, X_test_interim, sensors)\n",
        "\n",
        "# X_train_interim = exponential_smoothing(X_train_interim, sensors, 0, 0.4)\n",
        "# X_test_interim = exponential_smoothing(X_test_interim, sensors, 0, 0.4)\n",
        "\n",
        "# train-val split\n",
        "gss = GroupShuffleSplit(n_splits=1, train_size=0.80, random_state=42)\n",
        "for train_unit, val_unit in gss.split(X_train_interim['unit_number'].unique(), groups=X_train_interim['unit_number'].unique()):\n",
        "    train_unit = X_train_interim['unit_number'].unique()[train_unit]  # gss returns indexes and index starts at 1\n",
        "    val_unit = X_train_interim['unit_number'].unique()[val_unit]\n",
        "\n",
        "    train_split_array = gen_data_wrapper(X_train_interim, sequence_length, sensors, train_unit)\n",
        "    train_split_label = gen_label_wrapper(X_train_interim, sequence_length, ['RUL'], train_unit)\n",
        "    \n",
        "    val_split_array = gen_data_wrapper(X_train_interim, sequence_length, sensors, val_unit)\n",
        "    val_split_label = gen_label_wrapper(X_train_interim, sequence_length, ['RUL'], val_unit)\n",
        "\n",
        "# create sequences train, test \n",
        "train_array = gen_data_wrapper(X_train_interim, sequence_length, x)\n",
        "label_array = gen_label_wrapper(X_train_interim, sequence_length, ['RUL'])\n",
        "\n",
        "test_gen = (list(gen_test_data(X_test_interim[X_test_interim['unit_number']==unit_nr], sequence_length, x, -99.))\n",
        "           for unit_nr in X_test_interim['unit_number'].unique())\n",
        "test_array = np.concatenate(list(test_gen)).astype(np.float32)"
      ],
      "execution_count": 18,
      "outputs": []
    },
    {
      "cell_type": "markdown",
      "metadata": {
        "id": "cX-iNaGOZtwu"
      },
      "source": [
        "##Modeling GRU"
      ]
    },
    {
      "cell_type": "code",
      "metadata": {
        "colab": {
          "base_uri": "https://localhost:8080/"
        },
        "id": "6ejKx_03vyWF",
        "outputId": "cfc8209a-da03-4e2c-ffdb-80c5d68d7198"
      },
      "source": [
        "model = Sequential()\n",
        "model.add(GRU(50, return_sequences=True, input_shape=(train_split_array.shape[1],21)))\n",
        "model.add(Dropout(0.2))\n",
        "model.add(GRU(100, return_sequences=False))\n",
        "model.add(Dropout(0.2))\n",
        "model.add(Dense(1, activation = \"relu\"))\n",
        "\n",
        "model.compile(\n",
        "      optimizer=tf.keras.optimizers.RMSprop(learning_rate=0.001),\n",
        "      loss='mse',\n",
        "      metrics=[tf.keras.metrics.RootMeanSquaredError()])\n",
        "model.save_weights('GRU_weights.h5')\n",
        "\n",
        "print ('model compiled')\n",
        "\n",
        "print (model.summary())"
      ],
      "execution_count": 19,
      "outputs": [
        {
          "output_type": "stream",
          "name": "stdout",
          "text": [
            "model compiled\n",
            "Model: \"sequential\"\n",
            "_________________________________________________________________\n",
            " Layer (type)                Output Shape              Param #   \n",
            "=================================================================\n",
            " gru (GRU)                   (None, 20, 50)            10800     \n",
            "                                                                 \n",
            " dropout (Dropout)           (None, 20, 50)            0         \n",
            "                                                                 \n",
            " gru_1 (GRU)                 (None, 100)               45300     \n",
            "                                                                 \n",
            " dropout_1 (Dropout)         (None, 100)               0         \n",
            "                                                                 \n",
            " dense (Dense)               (None, 1)                 101       \n",
            "                                                                 \n",
            "=================================================================\n",
            "Total params: 56,201\n",
            "Trainable params: 56,201\n",
            "Non-trainable params: 0\n",
            "_________________________________________________________________\n",
            "None\n"
          ]
        }
      ]
    },
    {
      "cell_type": "code",
      "metadata": {
        "colab": {
          "base_uri": "https://localhost:8080/"
        },
        "id": "GS3o6ogmm5BH",
        "outputId": "39c2123a-480e-4acb-db2c-9b8feb9f5595"
      },
      "source": [
        "history = model.fit(train_split_array, train_split_label, validation_data=(val_split_array, val_split_label),epochs=20, batch_size=32)"
      ],
      "execution_count": 20,
      "outputs": [
        {
          "output_type": "stream",
          "name": "stdout",
          "text": [
            "Epoch 1/20\n",
            "471/471 [==============================] - 32s 58ms/step - loss: 4200.8999 - root_mean_squared_error: 64.8143 - val_loss: 2227.7109 - val_root_mean_squared_error: 47.1986\n",
            "Epoch 2/20\n",
            "471/471 [==============================] - 26s 56ms/step - loss: 1265.5603 - root_mean_squared_error: 35.5747 - val_loss: 458.3535 - val_root_mean_squared_error: 21.4092\n",
            "Epoch 3/20\n",
            "471/471 [==============================] - 26s 56ms/step - loss: 343.3614 - root_mean_squared_error: 18.5300 - val_loss: 243.3428 - val_root_mean_squared_error: 15.5995\n",
            "Epoch 4/20\n",
            "471/471 [==============================] - 27s 56ms/step - loss: 278.9028 - root_mean_squared_error: 16.7004 - val_loss: 218.1813 - val_root_mean_squared_error: 14.7710\n",
            "Epoch 5/20\n",
            "471/471 [==============================] - 29s 61ms/step - loss: 256.7458 - root_mean_squared_error: 16.0233 - val_loss: 227.0845 - val_root_mean_squared_error: 15.0693\n",
            "Epoch 6/20\n",
            "471/471 [==============================] - 26s 55ms/step - loss: 233.7856 - root_mean_squared_error: 15.2900 - val_loss: 228.0614 - val_root_mean_squared_error: 15.1017\n",
            "Epoch 7/20\n",
            "471/471 [==============================] - 25s 54ms/step - loss: 215.4797 - root_mean_squared_error: 14.6792 - val_loss: 213.7192 - val_root_mean_squared_error: 14.6191\n",
            "Epoch 8/20\n",
            "471/471 [==============================] - 26s 55ms/step - loss: 197.7435 - root_mean_squared_error: 14.0621 - val_loss: 209.9427 - val_root_mean_squared_error: 14.4894\n",
            "Epoch 9/20\n",
            "471/471 [==============================] - 25s 54ms/step - loss: 183.0119 - root_mean_squared_error: 13.5282 - val_loss: 222.8349 - val_root_mean_squared_error: 14.9277\n",
            "Epoch 10/20\n",
            "471/471 [==============================] - 27s 57ms/step - loss: 167.6535 - root_mean_squared_error: 12.9481 - val_loss: 241.5428 - val_root_mean_squared_error: 15.5416\n",
            "Epoch 11/20\n",
            "471/471 [==============================] - 26s 56ms/step - loss: 153.1914 - root_mean_squared_error: 12.3771 - val_loss: 241.3734 - val_root_mean_squared_error: 15.5362\n",
            "Epoch 12/20\n",
            "471/471 [==============================] - 26s 55ms/step - loss: 137.4891 - root_mean_squared_error: 11.7256 - val_loss: 255.9985 - val_root_mean_squared_error: 16.0000\n",
            "Epoch 13/20\n",
            "471/471 [==============================] - 27s 56ms/step - loss: 127.3358 - root_mean_squared_error: 11.2843 - val_loss: 264.9740 - val_root_mean_squared_error: 16.2780\n",
            "Epoch 14/20\n",
            "471/471 [==============================] - 27s 57ms/step - loss: 116.0898 - root_mean_squared_error: 10.7745 - val_loss: 308.4165 - val_root_mean_squared_error: 17.5618\n",
            "Epoch 15/20\n",
            "471/471 [==============================] - 26s 55ms/step - loss: 107.0364 - root_mean_squared_error: 10.3458 - val_loss: 286.7561 - val_root_mean_squared_error: 16.9339\n",
            "Epoch 16/20\n",
            "471/471 [==============================] - 27s 57ms/step - loss: 98.2076 - root_mean_squared_error: 9.9100 - val_loss: 298.7390 - val_root_mean_squared_error: 17.2841\n",
            "Epoch 17/20\n",
            "471/471 [==============================] - 26s 56ms/step - loss: 90.2720 - root_mean_squared_error: 9.5012 - val_loss: 272.6726 - val_root_mean_squared_error: 16.5128\n",
            "Epoch 18/20\n",
            "471/471 [==============================] - 26s 56ms/step - loss: 82.3395 - root_mean_squared_error: 9.0741 - val_loss: 287.5856 - val_root_mean_squared_error: 16.9583\n",
            "Epoch 19/20\n",
            "471/471 [==============================] - 26s 56ms/step - loss: 76.8682 - root_mean_squared_error: 8.7675 - val_loss: 303.6215 - val_root_mean_squared_error: 17.4247\n",
            "Epoch 20/20\n",
            "471/471 [==============================] - 27s 57ms/step - loss: 73.4890 - root_mean_squared_error: 8.5726 - val_loss: 383.2213 - val_root_mean_squared_error: 19.5760\n"
          ]
        }
      ]
    },
    {
      "cell_type": "code",
      "metadata": {
        "id": "RPEX3Gr8m46H",
        "colab": {
          "base_uri": "https://localhost:8080/",
          "height": 348
        },
        "outputId": "4218c2ed-50a6-4017-9eb0-9825228e5c8f"
      },
      "source": [
        "# plot history\n",
        "def plot_loss(fit_history):\n",
        "    plt.figure(figsize=(13,5))\n",
        "    plt.plot(range(1, len(fit_history.history['loss'])+1), fit_history.history['loss'], label='train')\n",
        "    plt.plot(range(1, len(fit_history.history['val_loss'])+1), fit_history.history['val_loss'], label='validate')\n",
        "    plt.title('GRU model')\n",
        "    plt.xlabel('Epochs')\n",
        "    plt.ylabel('Loss')\n",
        "    plt.legend()\n",
        "    plt.show()\n",
        "\n",
        "plot_loss(history)"
      ],
      "execution_count": 22,
      "outputs": [
        {
          "output_type": "display_data",
          "data": {
            "image/png": "[encoded data removed]",
            "text/plain": [
              "<Figure size 936x360 with 1 Axes>"
            ]
          },
          "metadata": {
            "needs_background": "light"
          }
        }
      ]
    },
    {
      "cell_type": "markdown",
      "metadata": {
        "id": "8sDFAqDKwBby"
      },
      "source": [
        "## Let's use the model to predict rul1 "
      ]
    },
    {
      "cell_type": "code",
      "metadata": {
        "id": "YTJhPH-M6jvS"
      },
      "source": [
        "def evaluate(y_true, y_hat, label='test'):\n",
        "    mse = mean_squared_error(y_true, y_hat)\n",
        "    rmse = np.sqrt(mse)\n",
        "    mae = mean_absolute_error(y_true, y_hat)\n",
        "    variance = r2_score(y_true, y_hat)\n",
        "    print('{} set RMSE:{}, R2:{}, mae: {}'.format(label, rmse, variance, mae))"
      ],
      "execution_count": 23,
      "outputs": []
    },
    {
      "cell_type": "code",
      "metadata": {
        "id": "BaKwdvVEkO4X",
        "colab": {
          "base_uri": "https://localhost:8080/"
        },
        "outputId": "c281eab6-657a-4b8c-a94d-1e160c07f5be"
      },
      "source": [
        "# predict and evaluate\n",
        "y_hat_train = model.predict(train_array)\n",
        "evaluate(label_array, y_hat_train, 'train')\n",
        "\n",
        "y_hat_test = model.predict(test_array)\n",
        "evaluate(rul_01, y_hat_test)"
      ],
      "execution_count": 24,
      "outputs": [
        {
          "output_type": "stream",
          "name": "stdout",
          "text": [
            "train set RMSE:13.124167442321777, R2:0.9016277129683506, mae: 8.27061939239502\n",
            "test set RMSE:22.316037945084524, R2:0.7116136912906148, mae: 16.24320348739624\n"
          ]
        }
      ]
    },
    {
      "cell_type": "code",
      "metadata": {
        "id": "kshxjZee8oiR"
      },
      "source": [
        "def plot_results(predicted_data, true_data): \n",
        "    fig = plt.figure(facecolor='white') \n",
        "    plt.figure(figsize=(13,5))\n",
        "    plt.plot(true_data, label='True Data') \n",
        "    plt.plot(predicted_data, label='Prediction')\n",
        "    plt.title('GRU Model')\n",
        "    plt.legend() \n",
        "    plt.show() "
      ],
      "execution_count": 25,
      "outputs": []
    },
    {
      "cell_type": "code",
      "metadata": {
        "colab": {
          "base_uri": "https://localhost:8080/",
          "height": 352
        },
        "id": "eUrLTi9W8p2n",
        "outputId": "a7a0f4b2-d81b-47c6-988d-e59de4934cf8"
      },
      "source": [
        "plot_results(y_hat_test,rul_01)"
      ],
      "execution_count": 26,
      "outputs": [
        {
          "output_type": "display_data",
          "data": {
            "text/plain": [
              "<Figure size 432x288 with 0 Axes>"
            ]
          },
          "metadata": {}
        },
        {
          "output_type": "display_data",
          "data": {
            "image/png": "[encoded data removed]",
            "text/plain": [
              "<Figure size 936x360 with 1 Axes>"
            ]
          },
          "metadata": {
            "needs_background": "light"
          }
        }
      ]
    },
    {
      "cell_type": "markdown",
      "metadata": {
        "id": "YmSyCjJ7sWvh"
      },
      "source": [
        "##Conclusion: Predictions are quite good and RMSE and MAE are plausible. GRU is pretty adapted to this kind of problems (time series), but LSTM is giving very good results as well "
      ]
    }
  ]
}